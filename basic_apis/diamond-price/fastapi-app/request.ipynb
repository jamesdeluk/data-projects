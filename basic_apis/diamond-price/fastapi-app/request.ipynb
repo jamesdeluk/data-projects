{
 "cells": [
  {
   "cell_type": "code",
   "execution_count": 8,
   "metadata": {},
   "outputs": [
    {
     "name": "stdout",
     "output_type": "stream",
     "text": [
      "{'input': {'carat': 1.0, 'cut': 3, 'color': 3, 'clarity': 3, 'x': 3.0, 'y': 3.0, 'z': 3.0}, 'price': 4449.79}\n"
     ]
    }
   ],
   "source": [
    "import requests\n",
    "\n",
    "url = \"http://127.0.0.1:8000/predict\"\n",
    "data = {\n",
    "    \"carat\":1,\n",
    "    \"cut\":3,\n",
    "    \"color\":3,\n",
    "    \"clarity\":3,\n",
    "    \"x\":3,\n",
    "    \"y\":3,\n",
    "    \"z\":3\n",
    "}\n",
    "\n",
    "response = requests.post(url, json=data)\n",
    "\n",
    "if response.status_code == 200:\n",
    "    print(response.json())\n",
    "else:\n",
    "    print(\"Error:\", response.status_code, response.text)"
   ]
  },
  {
   "cell_type": "code",
   "execution_count": 5,
   "metadata": {},
   "outputs": [
    {
     "name": "stdout",
     "output_type": "stream",
     "text": [
      "Request took 0.01 seconds\n",
      "Error: 404 {\"detail\":\"Not Found\"}\n",
      "Request took 0.00 seconds\n",
      "Error: 404 {\"detail\":\"Not Found\"}\n",
      "Request took 0.01 seconds\n",
      "{'input': {'carat': 1.0, 'cut': 3, 'color': 3, 'clarity': 3, 'x': 3.0, 'y': 3.0, 'z': 3.0}, 'price': 4449.79}\n",
      "Request took 0.00 seconds\n",
      "Error: 422 {\"detail\":[{\"type\":\"model_attributes_type\",\"loc\":[\"body\"],\"msg\":\"Input should be a valid dictionary or object to extract fields from\",\"input\":[1,3,3,3,3,3,3]}]}\n"
     ]
    }
   ],
   "source": [
    "import requests\n",
    "import time\n",
    "\n",
    "url = \"http://127.0.0.1:8000/predict-named\"\n",
    "data = {\n",
    "    \"carat\":1,\n",
    "    \"cut\":3,\n",
    "    \"color\":3,\n",
    "    \"clarity\":3,\n",
    "    \"x\":3,\n",
    "    \"y\":3,\n",
    "    \"z\":3\n",
    "}\n",
    "\n",
    "start_time = time.time()\n",
    "response = requests.post(url, json=data)\n",
    "end_time = time.time()\n",
    "duration = end_time - start_time\n",
    "print(f\"Request took {duration:.2f} seconds\")\n",
    "\n",
    "if response.status_code == 200:\n",
    "    print(response.json())\n",
    "else:\n",
    "    print(\"Error:\", response.status_code, response.text)\n",
    "\n",
    "url = \"http://127.0.0.1:8000/predict-list\"\n",
    "data = [1,3,3,3,3,3,3]\n",
    "\n",
    "start_time = time.time()\n",
    "response = requests.post(url, json=data)\n",
    "end_time = time.time()\n",
    "duration = end_time - start_time\n",
    "print(f\"Request took {duration:.2f} seconds\")\n",
    "\n",
    "if response.status_code == 200:\n",
    "    print(response.json())\n",
    "else:\n",
    "    print(\"Error:\", response.status_code, response.text)\n",
    "\n",
    "url = \"http://127.0.0.1:8000/predict\"\n",
    "data = {\n",
    "    \"carat\":1,\n",
    "    \"cut\":3,\n",
    "    \"color\":3,\n",
    "    \"clarity\":3,\n",
    "    \"x\":3,\n",
    "    \"y\":3,\n",
    "    \"z\":3\n",
    "}\n",
    "\n",
    "start_time = time.time()\n",
    "response = requests.post(url, json=data)\n",
    "end_time = time.time()\n",
    "duration = end_time - start_time\n",
    "print(f\"Request took {duration:.2f} seconds\")\n",
    "\n",
    "if response.status_code == 200:\n",
    "    print(response.json())\n",
    "else:\n",
    "    print(\"Error:\", response.status_code, response.text)\n",
    "\n",
    "url = \"http://127.0.0.1:8000/predict\"\n",
    "data = [1,3,3,3,3,3,3]\n",
    "\n",
    "start_time = time.time()\n",
    "response = requests.post(url, json=data)\n",
    "end_time = time.time()\n",
    "duration = end_time - start_time\n",
    "print(f\"Request took {duration:.2f} seconds\")\n",
    "\n",
    "if response.status_code == 200:\n",
    "    print(response.json())\n",
    "else:\n",
    "    print(\"Error:\", response.status_code, response.text)"
   ]
  }
 ],
 "metadata": {
  "kernelspec": {
   "display_name": ".venv",
   "language": "python",
   "name": "python3"
  },
  "language_info": {
   "codemirror_mode": {
    "name": "ipython",
    "version": 3
   },
   "file_extension": ".py",
   "mimetype": "text/x-python",
   "name": "python",
   "nbconvert_exporter": "python",
   "pygments_lexer": "ipython3",
   "version": "3.13.0"
  }
 },
 "nbformat": 4,
 "nbformat_minor": 2
}
