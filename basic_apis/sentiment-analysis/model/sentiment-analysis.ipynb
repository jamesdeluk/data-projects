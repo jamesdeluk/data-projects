{
 "cells": [
  {
   "cell_type": "code",
   "execution_count": 1,
   "metadata": {},
   "outputs": [],
   "source": [
    "import json\n",
    "from textblob import TextBlob"
   ]
  },
  {
   "cell_type": "code",
   "execution_count": 2,
   "metadata": {},
   "outputs": [],
   "source": [
    "def analyse(data):\n",
    "    text = data.get('text', '')\n",
    "\n",
    "    if not text:\n",
    "        return json.dumps({'error': 'No text provided'}), 400\n",
    "\n",
    "    blob = TextBlob(text)\n",
    "    sentiment_score = blob.sentiment.polarity\n",
    "\n",
    "    return json.dumps({\n",
    "        'input': text,\n",
    "        'sentiment_score': sentiment_score,\n",
    "        'sentiment': (\n",
    "            'positive' if sentiment_score > 0 else\n",
    "            'negative' if sentiment_score < 0 else\n",
    "            'neutral'\n",
    "        )\n",
    "    })"
   ]
  },
  {
   "cell_type": "code",
   "execution_count": 3,
   "metadata": {},
   "outputs": [
    {
     "data": {
      "text/plain": [
       "'{\"input\": \"Happy New Year!!\", \"sentiment_score\": 0.506534090909091, \"sentiment\": \"positive\"}'"
      ]
     },
     "execution_count": 3,
     "metadata": {},
     "output_type": "execute_result"
    }
   ],
   "source": [
    "analyse({'text': \"Happy New Year!!\"})"
   ]
  }
 ],
 "metadata": {
  "kernelspec": {
   "display_name": ".venv",
   "language": "python",
   "name": "python3"
  },
  "language_info": {
   "codemirror_mode": {
    "name": "ipython",
    "version": 3
   },
   "file_extension": ".py",
   "mimetype": "text/x-python",
   "name": "python",
   "nbconvert_exporter": "python",
   "pygments_lexer": "ipython3",
   "version": "3.13.0"
  }
 },
 "nbformat": 4,
 "nbformat_minor": 2
}
