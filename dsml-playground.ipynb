{
 "cells": [
  {
   "cell_type": "code",
   "execution_count": null,
   "id": "325bde1f-f4c8-49a7-a98f-6e1cefaeaa56",
   "metadata": {},
   "outputs": [],
   "source": [
    "def nulls_summary_table(df):\n",
    "    \"\"\"\n",
    "    Returns a summary table showing null value counts and percentage\n",
    "    \n",
    "    Parameters:\n",
    "    df (DataFrame): Dataframe to check\n",
    "    \n",
    "    Returns:\n",
    "    null_values (DataFrame)\n",
    "    \"\"\"\n",
    "    null_values = pd.DataFrame(df.isnull().sum())\n",
    "    null_values[1] = null_values[0]/len(df)\n",
    "    null_values.columns = ['null_count','null_pct']\n",
    "    return null_values\n",
    "\n",
    "nulls_summary_table(df)"
   ]
  },
  {
   "cell_type": "code",
   "execution_count": null,
   "id": "b1028d6c-e5b9-44f7-a6b1-796eca37e5a2",
   "metadata": {},
   "outputs": [],
   "source": [
    "# Generate sample data\n",
    "np.random.seed(0)\n",
    "data = np.random.rand(10000, 2)\n",
    "df = pd.DataFrame(data, columns=['A', 'B'])\n",
    "a, b = data[:, 0], data[:, 1]\n",
    "\n",
    "# Benchmark pandas\n",
    "pandas_time = timeit.timeit(lambda: df['A'].corr(df['B'], method='pearson'), number=1000)\n",
    "print(f\"Pandas: {pandas_time} seconds\")\n",
    "\n",
    "# Benchmark numpy\n",
    "numpy_time = timeit.timeit(lambda: np.corrcoef(a, b)[0, 1], number=1000)\n",
    "print(f\"Numpy: {numpy_time} seconds\")\n",
    "\n",
    "# Benchmark scipy\n",
    "scipy_time = timeit.timeit(lambda: pearsonr(a, b)[0], number=1000)\n",
    "print(f\"Scipy: {scipy_time} seconds\")"
   ]
  }
 ],
 "metadata": {
  "kernelspec": {
   "display_name": "Python 3 (ipykernel)",
   "language": "python",
   "name": "python3"
  },
  "language_info": {
   "codemirror_mode": {
    "name": "ipython",
    "version": 3
   },
   "file_extension": ".py",
   "mimetype": "text/x-python",
   "name": "python",
   "nbconvert_exporter": "python",
   "pygments_lexer": "ipython3",
   "version": "3.12.5"
  }
 },
 "nbformat": 4,
 "nbformat_minor": 5
}
