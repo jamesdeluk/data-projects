{
 "cells": [
  {
   "cell_type": "code",
   "execution_count": 39,
   "id": "6faece17",
   "metadata": {},
   "outputs": [],
   "source": [
    "import random\n",
    "from matplotlib import pyplot as plt\n",
    "\n",
    "class GameOfLife(object):  \n",
    "    \n",
    "    def __init__(self, x_dim, y_dim):\n",
    "        # len(self.grid) = cols\n",
    "        # len(self.grid[0]) = rows\n",
    "        self.cols, self.rows = (x_dim, y_dim)\n",
    "        self.grid = [[0 for _ in range(self.cols)] for _ in range(self.rows)]\n",
    "    \n",
    "    # def get_grid(self):\n",
    "    #     return self.grid\n",
    "\n",
    "    # def print_grid(self):\n",
    "    #     for i in range(self.rows):\n",
    "    #         for j in range(self.cols):\n",
    "    #             print(f'{self.grid[i][j]} ', end=' ')\n",
    "    #         print()\n",
    "    #     print()\n",
    "\n",
    "    def count_grid(self):\n",
    "        '''\n",
    "        Counts the total number of living cells\n",
    "        '''\n",
    "        count = sum(sum(dim) for dim in self.grid)\n",
    "        return count\n",
    "\n",
    "    def populate_grid(self, coord):\n",
    "        '''\n",
    "        Popuates the grid with living cells based on coordinates provided\n",
    "        \n",
    "        Parameters:\n",
    "        coord: A list of tuples; each tuple represents the (x, y) coordinates of a live cell\n",
    "        '''\n",
    "        self.coords = coord\n",
    "        for i,j in self.coords:\n",
    "            self.grid[j-1][i-1] = 1\n",
    "        self.draw_grid()\n",
    "        \n",
    "    def random_grid(self):\n",
    "        '''\n",
    "        Popuates the grid with living cells at random\n",
    "        '''\n",
    "        for i in range(self.rows):\n",
    "            for j in range(self.cols):\n",
    "                self.grid[j][i] = random.choice([0, 1])\n",
    "        self.draw_grid()\n",
    "\n",
    "    def make_step(self):\n",
    "        '''\n",
    "        Advances one generation\n",
    "        '''\n",
    "        sum_grid = [[0 for _ in range(self.cols)] for _ in range(self.rows)]\n",
    "        # print(self.rows)\n",
    "        # print(self.cols)\n",
    "        # c_corners = 0\n",
    "        # c_edges = 0\n",
    "        # c_middle = 0\n",
    "        for i in range(self.rows):\n",
    "            for j in range(self.cols):\n",
    "                # print(f'{i} x {j}')\n",
    "                n_neighbours = 0\n",
    "                # corners\n",
    "                if i == 0 and j == 0:\n",
    "                    # print(f'Corner: {i} x {j}')\n",
    "                    # c_corners += 1\n",
    "                    if self.grid[i+1][j] == 1:\n",
    "                        n_neighbours += 1\n",
    "                    if self.grid[i][j+1] == 1:\n",
    "                        n_neighbours += 1\n",
    "                    if self.grid[i+1][j+1] == 1:\n",
    "                        n_neighbours += 1\n",
    "                elif i == self.rows-1 and j == self.cols-1:\n",
    "                    # print(f'Corner: {i} x {j}')\n",
    "                    # c_corners += 1\n",
    "                    if self.grid[i-1][j] == 1:\n",
    "                        n_neighbours += 1\n",
    "                    if self.grid[i][j-1] == 1:\n",
    "                        n_neighbours += 1\n",
    "                    if self.grid[i-1][j-1] == 1:\n",
    "                        n_neighbours += 1\n",
    "                elif i == 0 and j == self.cols-1:\n",
    "                    # print(f'Corner: {i} x {j}')\n",
    "                    # c_corners += 1\n",
    "                    if self.grid[i+1][j] == 1:\n",
    "                        n_neighbours += 1\n",
    "                    if self.grid[i][j-1] == 1:\n",
    "                        n_neighbours += 1\n",
    "                    if self.grid[i+1][j-1] == 1:\n",
    "                        n_neighbours += 1\n",
    "                elif j == 0 and i == self.rows-1:\n",
    "                    # print(f'Corner: {i} x {j}')\n",
    "                    # c_corners += 1\n",
    "                    if self.grid[i][j+1] == 1:\n",
    "                        n_neighbours += 1\n",
    "                    if self.grid[i-1][j] == 1:\n",
    "                        n_neighbours += 1\n",
    "                    if self.grid[i-1][j+1] == 1:\n",
    "                        n_neighbours += 1\n",
    "                # edge\n",
    "                elif i == 0:\n",
    "                    # print(f'Edge: {i} x {j}')\n",
    "                    # c_edges += 1\n",
    "                    if self.grid[i+1][j] == 1:\n",
    "                        n_neighbours += 1\n",
    "                    if self.grid[i][j+1] == 1:\n",
    "                        n_neighbours += 1\n",
    "                    if self.grid[i][j-1] == 1:\n",
    "                        n_neighbours += 1\n",
    "                    if self.grid[i+1][j+1] == 1:\n",
    "                        n_neighbours += 1\n",
    "                    if self.grid[i+1][j-1] == 1:\n",
    "                        n_neighbours += 1\n",
    "                elif i == self.rows-1:\n",
    "                    # print(f'Edge: {i} x {j}')\n",
    "                    # c_edges += 1\n",
    "                    if self.grid[i][j+1] == 1:\n",
    "                        n_neighbours += 1\n",
    "                    if self.grid[i-1][j] == 1:\n",
    "                        n_neighbours += 1\n",
    "                    if self.grid[i][j-1] == 1:\n",
    "                        n_neighbours += 1\n",
    "                    if self.grid[i-1][j+1] == 1:\n",
    "                        n_neighbours += 1\n",
    "                    if self.grid[i-1][j-1] == 1:\n",
    "                        n_neighbours += 1\n",
    "                elif j == 0:\n",
    "                    # print(f'Edge: {i} x {j}')\n",
    "                    # c_edges += 1\n",
    "                    if self.grid[i+1][j] == 1:\n",
    "                        n_neighbours += 1\n",
    "                    if self.grid[i][j+1] == 1:\n",
    "                        n_neighbours += 1\n",
    "                    if self.grid[i-1][j] == 1:\n",
    "                        n_neighbours += 1\n",
    "                    if self.grid[i+1][j+1] == 1:\n",
    "                        n_neighbours += 1\n",
    "                    if self.grid[i-1][j+1] == 1:\n",
    "                        n_neighbours += 1\n",
    "                elif j == self.cols-1:\n",
    "                    # print(f'Edge: {i} x {j}')\n",
    "                    # c_edges += 1\n",
    "                    if self.grid[i+1][j] == 1:\n",
    "                        n_neighbours += 1\n",
    "                    if self.grid[i-1][j] == 1:\n",
    "                        n_neighbours += 1\n",
    "                    if self.grid[i][j-1] == 1:\n",
    "                        n_neighbours += 1\n",
    "                    if self.grid[i-1][j-1] == 1:\n",
    "                        n_neighbours += 1\n",
    "                    if self.grid[i+1][j-1] == 1:\n",
    "                        n_neighbours += 1\n",
    "                # middle\n",
    "                else:\n",
    "                    # print(f'Middle: {i} x {j}')\n",
    "                    # c_middle += 1\n",
    "                    if self.grid[i+1][j] == 1:\n",
    "                        n_neighbours += 1\n",
    "                    if self.grid[i][j+1] == 1:\n",
    "                        n_neighbours += 1\n",
    "                    if self.grid[i-1][j] == 1:\n",
    "                        n_neighbours += 1\n",
    "                    if self.grid[i][j-1] == 1:\n",
    "                        n_neighbours += 1\n",
    "                    if self.grid[i+1][j+1] == 1:\n",
    "                        n_neighbours += 1\n",
    "                    if self.grid[i-1][j+1] == 1:\n",
    "                        n_neighbours += 1\n",
    "                    if self.grid[i-1][j-1] == 1:\n",
    "                        n_neighbours += 1\n",
    "                    if self.grid[i+1][j-1] == 1:\n",
    "                        n_neighbours += 1\n",
    "                \n",
    "                # print(f'{i}x{j}: {n_neighbours}')\n",
    "                sum_grid[i][j] = n_neighbours\n",
    "        # print(f'Expected:\\tCorners: 4 + Edges: {2*self.rows + 2*(self.cols-2) - 4} + Middle: {self.rows * self.cols - (2*self.rows + 2*(self.cols-2) - 4) -4}')\n",
    "        # print(f'Actual:\\t\\tCorners: {c_corners} + Edges: {c_edges} + Middle: {c_middle}')\n",
    "        # for i in range(self.rows):\n",
    "        #     for j in range(self.cols):\n",
    "        #         print(f'{sum_grid[i][j]} ', end=' ')\n",
    "        #     print()\n",
    "        for i in range(self.rows):\n",
    "            for j in range(self.cols):\n",
    "                if sum_grid[i][j] < 2:\n",
    "                    # print('dead')\n",
    "                    self.grid[i][j] = 0\n",
    "                if sum_grid[i][j] > 2:\n",
    "                    # print('dead')\n",
    "                    self.grid[i][j] = 0\n",
    "                if sum_grid[i][j] == 3:\n",
    "                    # print('alive')\n",
    "                    self.grid[i][j] = 1\n",
    "        self.draw_grid()\n",
    "\n",
    "    def make_n_steps(self, n):\n",
    "        '''\n",
    "        Advances n generations\n",
    "\n",
    "        Parameters:\n",
    "        n steps\n",
    "        '''\n",
    "        for i in range(n):\n",
    "            self.make_step()\n",
    "        # self.draw_grid()\n",
    "\n",
    "    def draw_grid(self):\n",
    "        '''\n",
    "        Draws the grid\n",
    "        '''\n",
    "        x=[]\n",
    "        y=[]\n",
    "        for i in range(self.cols):\n",
    "            for j in range(self.rows):\n",
    "                x.append(j)\n",
    "                y.append(i)\n",
    "        plt.figure(figsize=(3, 3))\n",
    "        plt.scatter(x, y, c=self.grid, s=500, marker='s')\n",
    "        plt.xlim(-0.5, self.rows-0.5)\n",
    "        plt.ylim(-0.5, self.cols-0.5)\n",
    "        plt.xticks([])\n",
    "        plt.yticks([])\n",
    "        plt.xlabel('')\n",
    "        plt.ylabel('')\n",
    "        plt.gca().invert_yaxis()\n",
    "        plt.plot()"
   ]
  },
  {
   "cell_type": "code",
   "execution_count": 46,
   "id": "a165aea5-95b6-4042-b9b5-855cfde658d7",
   "metadata": {},
   "outputs": [],
   "source": [
    "game = GameOfLife(30, 30)\n",
    "# help(game.draw_grid)"
   ]
  },
  {
   "cell_type": "code",
   "execution_count": 47,
   "id": "83c0fd7f-9ebe-4089-8e79-5c72d0cda46b",
   "metadata": {},
   "outputs": [
    {
     "data": {
      "image/png": "[encoded data removed]",
      "text/plain": [
       "<Figure size 300x300 with 1 Axes>"
      ]
     },
     "metadata": {},
     "output_type": "display_data"
    }
   ],
   "source": [
    "# game.random_grid()\n",
    "# game.populate_grid([(2,1),(3,2),(3,3),(2,3),(1,3)])\n",
    "# game.populate_grid([(14, 15), (15, 15), (16, 15), (15, 14), (16, 16), (14, 16), (15, 17)])\n",
    "# game.populate_grid([(10, 10), (10, 13), (11, 14), (12, 10), (12, 14), (13, 11), (13, 12), (13, 13), (13, 14)])\n",
    "game.populate_grid([(14, 16), (15, 16), (16, 16), (18, 16), (19, 16), (20, 16), (16, 14), (16, 15), (16, 17), (16, 18), (18, 14), (18, 15), (18, 17), (18, 18), (14, 18), (15, 18), (16, 18), (18, 18), (19, 18), (20, 18)])"
   ]
  },
  {
   "cell_type": "code",
   "execution_count": 48,
   "id": "e6f13530-72a3-4e7f-9dd6-6cf256701fe5",
   "metadata": {},
   "outputs": [
    {
     "data": {
      "image/png": "[encoded data removed]",
      "text/plain": [
       "<Figure size 300x300 with 1 Axes>"
      ]
     },
     "metadata": {},
     "output_type": "display_data"
    }
   ],
   "source": [
    "game.make_step()"
   ]
  },
  {
   "cell_type": "code",
   "execution_count": 49,
   "id": "ce219f17-77c1-423e-b64e-d985f94e8490",
   "metadata": {},
   "outputs": [
    {
     "data": {
      "image/png": "[encoded data removed]",
      "text/plain": [
       "<Figure size 300x300 with 1 Axes>"
      ]
     },
     "metadata": {},
     "output_type": "display_data"
    },
    {
     "data": {
      "image/png": "[encoded data removed]",
      "text/plain": [
       "<Figure size 300x300 with 1 Axes>"
      ]
     },
     "metadata": {},
     "output_type": "display_data"
    },
    {
     "data": {
      "image/png": "[encoded data removed]",
      "text/plain": [
       "<Figure size 300x300 with 1 Axes>"
      ]
     },
     "metadata": {},
     "output_type": "display_data"
    },
    {
     "data": {
      "image/png": "[encoded data removed]",
      "text/plain": [
       "<Figure size 300x300 with 1 Axes>"
      ]
     },
     "metadata": {},
     "output_type": "display_data"
    },
    {
     "data": {
      "image/png": "[encoded data removed]",
      "text/plain": [
       "<Figure size 300x300 with 1 Axes>"
      ]
     },
     "metadata": {},
     "output_type": "display_data"
    },
    {
     "data": {
      "image/png": "[encoded data removed]",
      "text/plain": [
       "<Figure size 300x300 with 1 Axes>"
      ]
     },
     "metadata": {},
     "output_type": "display_data"
    }
   ],
   "source": [
    "game.make_n_steps(6)"
   ]
  },
  {
   "cell_type": "code",
   "execution_count": 48,
   "id": "b1d3ed4c-942f-4add-9dae-a6ef0f5995f9",
   "metadata": {},
   "outputs": [
    {
     "name": "stdout",
     "output_type": "stream",
     "text": [
      "Means for 10 rounds of 10 steps for a 10x10 grid with random starts\n",
      "Start:\t 17.9\t17.90%\n",
      "Change:\t-16.0\n",
      "End:\t 1.9\t1.90%\n",
      "Loss:\t 89%\n",
      "Ratios:\t 4.88\t4.88%\n"
     ]
    }
   ],
   "source": [
    "# comment draw_grids\n",
    "\n",
    "def analyse(g, s, n):\n",
    "    for i in range(n):\n",
    "        game = g\n",
    "        game.random_grid()\n",
    "        s = game.count_grid()\n",
    "        starts.append(s)\n",
    "        game.make_n_steps(s)\n",
    "        e = game.count_grid()\n",
    "        ends.append(e)\n",
    "        d = s-e\n",
    "        diffs.append(d)\n",
    "        if s != 0 and e != 0:\n",
    "            r = round(s / e, 2)\n",
    "            ratios.append(r)\n",
    "        else:\n",
    "            ratios.append('')\n",
    "        # print(f'{i}: {s} {e} {d}')\n",
    "\n",
    "starts=[]\n",
    "ends=[]\n",
    "diffs=[]\n",
    "ratios=[]\n",
    "\n",
    "x=10\n",
    "y=10\n",
    "s=10\n",
    "n=10\n",
    "g = GameOfLife(x, y)\n",
    "analyse(game, s, n)\n",
    "list(zip(start,end,diff,ratio))\n",
    "\n",
    "ratios_cleaned = [_ for _ in ratios if _ != '']\n",
    "\n",
    "xy=x*y\n",
    "starts_mean = sum(starts)/len(starts)\n",
    "ends_mean = sum(ends)/len(ends)\n",
    "diffs_mean = sum(diffs)/len(diffs)\n",
    "ratios_mean = sum(ratios_cleaned)/len(ratios_cleaned)\n",
    "\n",
    "print(f'Means for {n} rounds of {s} steps for a {x}x{y} grid with random starts')\n",
    "print(f'Start:\\t {starts_mean}\\t{starts_mean/xy*100:.2f}%')\n",
    "print(f'Change:\\t{-diffs_mean}')\n",
    "print(f'End:\\t {ends_mean}\\t{ends_mean/xy*100:.2f}%')\n",
    "print(f'Loss:\\t {(starts_mean-ends_mean)/starts_mean*100:.0f}%')\n",
    "print(f'Ratios:\\t {ratios_mean:.2f}\\t{ratios_mean/xy*100:.2f}%')"
   ]
  }
 ],
 "metadata": {
  "kernelspec": {
   "display_name": "Python 3 (ipykernel)",
   "language": "python",
   "name": "python3"
  },
  "language_info": {
   "codemirror_mode": {
    "name": "ipython",
    "version": 3
   },
   "file_extension": ".py",
   "mimetype": "text/x-python",
   "name": "python",
   "nbconvert_exporter": "python",
   "pygments_lexer": "ipython3",
   "version": "3.12.5"
  }
 },
 "nbformat": 4,
 "nbformat_minor": 5
}
