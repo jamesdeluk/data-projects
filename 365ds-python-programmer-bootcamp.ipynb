{
 "cells": [
  {
   "cell_type": "code",
   "execution_count": 3,
   "id": "3ab4c3b7-e603-4d15-8789-e23953c7ef75",
   "metadata": {},
   "outputs": [],
   "source": [
    "import time\n",
    "# start_time = time.time_ns()\n",
    "# end_time = time.time_ns()\n",
    "# print('Duration: {}'.format(end_time - start_time))"
   ]
  },
  {
   "cell_type": "markdown",
   "id": "2647e743-0875-4fdb-9a8e-4fd053d97612",
   "metadata": {},
   "source": [
    "# dicts"
   ]
  },
  {
   "cell_type": "markdown",
   "id": "bf3ad99d-e24d-42ba-89ea-e3021c677875",
   "metadata": {},
   "source": [
    "## in"
   ]
  },
  {
   "cell_type": "code",
   "execution_count": 4,
   "id": "e9b8ba4b-6ac3-48e6-9028-e172f834c3b5",
   "metadata": {},
   "outputs": [
    {
     "name": "stdin",
     "output_type": "stream",
     "text": [
      "Country?  italy\n"
     ]
    }
   ],
   "source": [
    "capitals = {'France':'Paris','Spain':'Madrid','United Kingdom':'London',\n",
    "           'India':'New Delhi','United States':'Washington DC','Italy':'Rome',\n",
    "           'Denmark':'Copenhagen','Germany':'Berlin','Greece':'Athens',\n",
    "           'Bulgaria':'Sofia','Ireland':'Dublin','Mexico':'Mexico City'\n",
    "           }\n",
    "country = input('Country? ')\n",
    "country = country.title()\n",
    "if input in capitals:\n",
    "    print(capitals[input])"
   ]
  },
  {
   "cell_type": "markdown",
   "id": "23e532bd-87ab-4fd6-a9db-648ff3571b77",
   "metadata": {},
   "source": [
    "## zip"
   ]
  },
  {
   "cell_type": "code",
   "execution_count": 5,
   "id": "3afc5ac7-54d6-4a5e-b3b7-d4e3e0b662ed",
   "metadata": {},
   "outputs": [
    {
     "name": "stdout",
     "output_type": "stream",
     "text": [
      "{'Python DS': {'open': 12.87, 'high': 13.23, 'low': 11.42, 'close': 13.1}, 'PythonSoft': {'open': 23.54, 'high': 25.76, 'low': 21.87, 'close': 22.33}, 'Pythazon': {'open': 98.99, 'high': 102.34, 'low': 97.21, 'close': 100.065}, 'Pybook': {'open': 203.63, 'high': 207.54, 'low': 202.43, 'close': 205.24}}\n"
     ]
    }
   ],
   "source": [
    "companies = ['Python DS', 'PythonSoft', 'Pythazon', 'Pybook']\n",
    "when = ['open', 'high', 'low', 'close']\n",
    "prices = [[12.87, 13.23, 11.42, 13.10],[23.54,25.76,21.87,22.33],[98.99,102.34,97.21,100.065],[203.63,207.54,202.43,205.24]]\n",
    "stocks = {}\n",
    "for i in range(len(companies)):\n",
    "    stocks[companies[i]] = dict(zip(when,prices[i]))\n",
    "print(stocks)"
   ]
  },
  {
   "cell_type": "markdown",
   "id": "02b286f1-a4f5-49ba-8924-dedb7465e67a",
   "metadata": {},
   "source": [
    "### plt"
   ]
  },
  {
   "cell_type": "code",
   "execution_count": 6,
   "id": "19df07d8-697c-46a0-9de7-54cf19e6ed98",
   "metadata": {},
   "outputs": [
    {
     "data": {
      "image/png": "[encoded data removed]",
      "text/plain": [
       "<Figure size 640x480 with 1 Axes>"
      ]
     },
     "metadata": {},
     "output_type": "display_data"
    }
   ],
   "source": [
    "import matplotlib.pyplot as plt\n",
    "import string\n",
    "import random\n",
    "my_dict = {}\n",
    "letters = list(string.ascii_uppercase)\n",
    "for i in range(len(letters)):\n",
    "    my_dict[letters[i]] = random.random()\n",
    "x,y = zip(*my_dict.items())\n",
    "plt.bar(x, y)\n",
    "plt.show()"
   ]
  },
  {
   "cell_type": "markdown",
   "id": "11566388-1e09-4fb0-b485-c75a88942e3b",
   "metadata": {},
   "source": [
    "# Functions, Fibonaccis"
   ]
  },
  {
   "cell_type": "code",
   "execution_count": 7,
   "id": "786673f5-831b-4ec0-887d-204949d3c723",
   "metadata": {},
   "outputs": [
    {
     "name": "stdout",
     "output_type": "stream",
     "text": [
      "{1: 0, 2: 1, 3: 1, 4: 2, 5: 3, 6: 5, 7: 8, 8: 13, 9: 21, 10: 34}\n",
      "{1: 0, 2: 1, 3: 1, 4: 2, 5: 3, 6: 5, 7: 8, 8: 13, 9: 21, 10: 34}\n",
      "34\n"
     ]
    }
   ],
   "source": [
    "def fib1(n):\n",
    "    ''' Calculates the fib sequence as a dict '''\n",
    "    a = [x+1 for x in range(n)]\n",
    "    f1=0\n",
    "    f2=1\n",
    "    f=[f1, f2]\n",
    "    while len(f) < n:\n",
    "        fn = f[-1] + f[-2]\n",
    "        f.append(fn)\n",
    "    fib_dict = dict(zip(a,f))\n",
    "    return fib_dict\n",
    "print(fib1(10))\n",
    "\n",
    "def fib2(n):\n",
    "    ''' Calculates the fib sequence as a dict '''\n",
    "    a = 0 \n",
    "    b = 1\n",
    "    d = dict()\n",
    "    for i in range(1,n+1):\n",
    "       d[i] = a\n",
    "       a,b = b,a+b\n",
    "    return d\n",
    "print(fib2(10))\n",
    "\n",
    "def fib3(n):\n",
    "    ''' Calculates the nth fib '''\n",
    "    a = 0\n",
    "    b = 1\n",
    "    for i in range(n-1):\n",
    "        a,b = b,a+b\n",
    "    return a\n",
    "print(fib3(10))"
   ]
  },
  {
   "cell_type": "markdown",
   "id": "be21b707-b475-4c2f-a406-5ba2e041573d",
   "metadata": {},
   "source": [
    "# Classes"
   ]
  },
  {
   "cell_type": "markdown",
   "id": "ead8a358-6120-4802-9b72-9eae0effcf44",
   "metadata": {},
   "source": [
    "## BankAccount"
   ]
  },
  {
   "cell_type": "code",
   "execution_count": 8,
   "id": "16a46a88-9412-478e-8af3-0a8eb436f67e",
   "metadata": {},
   "outputs": [
    {
     "name": "stdout",
     "output_type": "stream",
     "text": [
      "0.0\n",
      "10.0\n",
      "insufficient balance\n",
      "5.0\n"
     ]
    }
   ],
   "source": [
    "class BankAccount(object):\n",
    "    \n",
    "    def __init__(self, balance=0.0):\n",
    "        self.balance = balance\n",
    "        \n",
    "    def display_balance(self):\n",
    "        print(self.balance)\n",
    "        \n",
    "    def deposit(self, amount):\n",
    "        self.balance += amount\n",
    "        print(self.balance)\n",
    "        \n",
    "    def withdraw(self, amount):\n",
    "        if self.balance >= amount:\n",
    "            self.balance -= amount\n",
    "            print(self.balance)\n",
    "        else:\n",
    "            print('insufficient balance')\n",
    "\n",
    "a1 = BankAccount()\n",
    "a1.display_balance()\n",
    "a1.deposit(10)\n",
    "a1.withdraw(20)\n",
    "a1.withdraw(5)"
   ]
  },
  {
   "cell_type": "markdown",
   "id": "1c2deb46-21f8-4462-9716-0f39c3d24d5d",
   "metadata": {},
   "source": [
    "## Circle"
   ]
  },
  {
   "cell_type": "code",
   "execution_count": 9,
   "id": "8a81caae-9935-41fe-a3c6-9f8896b6e396",
   "metadata": {},
   "outputs": [
    {
     "name": "stdout",
     "output_type": "stream",
     "text": [
      "radius: 5\n",
      "area: 78.53981633974483\n"
     ]
    }
   ],
   "source": [
    "from math import pi\n",
    "\n",
    "class Circle(object):\n",
    "    \n",
    "    def __init__(self, radius=0):\n",
    "        self.radius = radius\n",
    "        \n",
    "    def area(self):\n",
    "        print(f'radius: {self.radius}\\narea: {pi*self.radius**2}')\n",
    "\n",
    "c = Circle(5)\n",
    "c.area()"
   ]
  },
  {
   "cell_type": "markdown",
   "id": "71061370-431b-41a2-8eec-b18a3ac650c8",
   "metadata": {},
   "source": [
    "# Cipher"
   ]
  },
  {
   "cell_type": "code",
   "execution_count": 10,
   "id": "e1e2c5dc-6291-444e-bfbe-30acf747b32c",
   "metadata": {},
   "outputs": [
    {
     "name": "stdin",
     "output_type": "stream",
     "text": [
      "Phrase?  meet at the clocktower at 1am\n",
      "[f]orward or [b]ackward? f\n",
      "How much?  3\n"
     ]
    },
    {
     "name": "stdout",
     "output_type": "stream",
     "text": [
      "phhw dw wkh forfnwrzhu dw 1dp\n"
     ]
    }
   ],
   "source": [
    "a = 'abcdefghijklmnopqrstuvwxyz'\n",
    "A = 'ABCDEFGHIJKLMNOPQRSTUVWXYZ'\n",
    "\n",
    "def encrypt(phrase, order, amount):\n",
    "    # if order == 'f':\n",
    "    #     n = 3\n",
    "    # elif order == 'b':\n",
    "    #     n = -3\n",
    "    # n = 3 if order == 'f' else -3 if order == 'b' else None\n",
    "    n = {'f': amount, 'b': -amount}.get(order)\n",
    "    encrypted = ''\n",
    "    for l in phrase:\n",
    "        if l in a:\n",
    "            i = a.find(l)\n",
    "            encrypted += a[shift_amount(i+n)]\n",
    "        elif l in A:\n",
    "            i = A.find(l)\n",
    "            encrypted += A[shift_amount(i+n)]\n",
    "        else:\n",
    "            encrypted += l\n",
    "    print(encrypted)\n",
    "\n",
    "def shift_amount(i):\n",
    "    return i%len(a)\n",
    "\n",
    "phrase = input('Phrase? ') # 'The cat sat on the mat'\n",
    "order = input('[f]orward or [b]ackward?' )\n",
    "amount = int(input('How much? '))\n",
    "encrypt(phrase, order, amount)"
   ]
  },
  {
   "cell_type": "markdown",
   "id": "239879b8-341e-46c6-b1c0-496f9dfc90ac",
   "metadata": {},
   "source": [
    "# Two sums"
   ]
  },
  {
   "cell_type": "markdown",
   "id": "d0ade1c3-0be4-4df1-8182-26625196ac56",
   "metadata": {},
   "source": [
    "## Mine"
   ]
  },
  {
   "cell_type": "code",
   "execution_count": 11,
   "id": "aaccef48-93e9-4488-8702-7067e22b308b",
   "metadata": {},
   "outputs": [
    {
     "name": "stdout",
     "output_type": "stream",
     "text": [
      "{2: 0, 5: 1, 3: 2, 7: 3, 4: 4}\n",
      "2,3\n",
      "3,2\n"
     ]
    }
   ],
   "source": [
    "def two_sums(L,t):\n",
    "    d = {}\n",
    "    for n in L:\n",
    "        d[n] = L.index(n)\n",
    "    print(d)\n",
    "    s = False\n",
    "    for k,v in d.items():\n",
    "        l = t-k\n",
    "        if l in d:\n",
    "            if d[k] != d[l]:\n",
    "                s = True\n",
    "                print(f'{d[k]},{d[l]}')\n",
    "    if not s:\n",
    "        print('no match')\n",
    "two_sums([2,5,3,7,4],10)"
   ]
  },
  {
   "cell_type": "markdown",
   "id": "4adfa4fc-e01d-4a2a-94c8-34e887338d1d",
   "metadata": {},
   "source": [
    "## Solution"
   ]
  },
  {
   "cell_type": "code",
   "execution_count": 12,
   "id": "1d0ed192-e821-4b02-93e1-a465ec85b040",
   "metadata": {},
   "outputs": [
    {
     "name": "stdout",
     "output_type": "stream",
     "text": [
      "9 - 8\n",
      "{8: 0}\n",
      "\n",
      "9 - 6\n",
      "{8: 0, 6: 1}\n",
      "\n",
      "9 - 11\n",
      "{8: 0, 6: 1, 11: 2}\n",
      "\n",
      "9 - 3\n",
      "{8: 0, 6: 1, 11: 2}\n",
      "[1, 3]\n"
     ]
    }
   ],
   "source": [
    "def two_sum(nums, target):\n",
    "    d = {}\n",
    "    for i in range(len(nums)):\n",
    "        print(f'{target} - {nums[i]}')\n",
    "        if target - nums[i] in d:\n",
    "            print(d)\n",
    "            return [d[target-nums[i]],i]\n",
    "        d[nums[i]] = i\n",
    "        print(d)\n",
    "        print()\n",
    "    return -1\n",
    "L = [8,6,11,3]\n",
    "t = 9\n",
    "print(two_sum(L,t))"
   ]
  },
  {
   "cell_type": "markdown",
   "id": "a9c8c6e7-1f22-43ae-850e-8ab82b2ba8be",
   "metadata": {},
   "source": [
    "# Card"
   ]
  },
  {
   "cell_type": "code",
   "execution_count": 13,
   "id": "d5352425-1c18-4983-a6d7-ff68a1633893",
   "metadata": {},
   "outputs": [
    {
     "name": "stdout",
     "output_type": "stream",
     "text": [
      "ace of spades\n"
     ]
    }
   ],
   "source": [
    "class Card(object):\n",
    "\n",
    "    suits = {'h':'hearts','d':'diamonds','c':'clubs','s':'spades'}\n",
    "    named = {'a':'ace','j':'jack','q':'queen','k':'king'}\n",
    "    \n",
    "    def __init__ (self, value, suit):\n",
    "        self.value = Card.named.get(value) if value.isalpha() else value\n",
    "        self.suit = Card.suits.get(suit)\n",
    "\n",
    "    def get_value(self):\n",
    "        return self.value\n",
    "\n",
    "    def get_suit(self):\n",
    "        return self.suit\n",
    "\n",
    "    def __str__(self):\n",
    "        card = str(self.value) + ' of ' + str(self.suit)\n",
    "        return card\n",
    "\n",
    "x = Card('a','s')\n",
    "print(x)"
   ]
  },
  {
   "cell_type": "markdown",
   "id": "a003595b-ff39-42ba-a639-37b6c64cd574",
   "metadata": {},
   "source": [
    "# Stacks"
   ]
  },
  {
   "cell_type": "markdown",
   "id": "1d1ade7e-e324-42ab-818b-433fe568a1c5",
   "metadata": {},
   "source": [
    "## Brackets test (without stacks)"
   ]
  },
  {
   "cell_type": "code",
   "execution_count": 14,
   "id": "4e822e2c-0ce2-4ff3-9aff-e15d9429149b",
   "metadata": {},
   "outputs": [
    {
     "name": "stdout",
     "output_type": "stream",
     "text": [
      "[{()}]: Match\n",
      "\n",
      "[{(}]: Fail\n",
      "\n",
      "[{(})]: Fail\n",
      "\n",
      "{{([{()}])}}: Match\n",
      "\n",
      "}{([})}}: Fail\n",
      "\n"
     ]
    }
   ],
   "source": [
    "# brackets = { 40:41, 123:125, 91:93 }\n",
    "# if brackets.get(ord(test[i]), 0) != ord(test[length-i-1]):\n",
    "\n",
    "# 422ms\n",
    "\n",
    "def brackets_test(test):\n",
    "    brackets = {'(':')','[':']','{':'}'}\n",
    "    print(test, end=': ')\n",
    "    match = True\n",
    "    length = len(test)\n",
    "    if length % 2:\n",
    "        match = False\n",
    "    else:\n",
    "        for i in range(length//2):\n",
    "            if match:\n",
    "                if brackets.get(test[i], 0) != test[length-i-1]:\n",
    "                    match = False\n",
    "    print('Match') if match else print('Fail')\n",
    "    print()\n",
    "\n",
    "test1 = '[{()}]' # good\n",
    "test2 = '[{(}]' # bad, odd\n",
    "test3 = '[{(})]' # bad, unmatched\n",
    "test4 = '{{([{()}])}}' # good, longer\n",
    "test5 = '}{([})}}' # bad, start\n",
    "tests = [test1, test2, test3, test4, test5]\n",
    "\n",
    "for test in tests:\n",
    "    brackets_test(test)"
   ]
  },
  {
   "cell_type": "markdown",
   "id": "3607ed58-a48d-4416-8b98-b159e1ec96cf",
   "metadata": {},
   "source": [
    "## Answer using stacks"
   ]
  },
  {
   "cell_type": "code",
   "execution_count": 15,
   "id": "91e1d938-a458-4fa9-b7c3-f6a37b14e33e",
   "metadata": {},
   "outputs": [
    {
     "name": "stdout",
     "output_type": "stream",
     "text": [
      "[{()}]: Match\n",
      "\n",
      "[{(}]: Fail\n",
      "\n",
      "[{(})]: Fail\n",
      "\n",
      "{{([{()}])}}: Match\n",
      "\n",
      "}{([})}}: Fail\n",
      "\n"
     ]
    }
   ],
   "source": [
    "# 390ms\n",
    "\n",
    "def balanced_brackets(s): \n",
    "    stack = []\n",
    "    brackets = {'(':')','[':']','{':'}'}\n",
    "    for char in s:\n",
    "        if char in brackets.keys():\n",
    "            stack.append(char)\n",
    "        else:\n",
    "            if len(stack) == 0 or brackets[stack.pop()] != char:\n",
    "                return False\n",
    "    return len(stack) == 0\n",
    "\n",
    "test1 = '[{()}]' # good\n",
    "test2 = '[{(}]' # bad, odd\n",
    "test3 = '[{(})]' # bad, unmatched\n",
    "test4 = '{{([{()}])}}' # good, longer\n",
    "test5 = '}{([})}}' # bad, start\n",
    "tests = [test1, test2, test3, test4, test5]\n",
    "\n",
    "for test in tests:\n",
    "    brackets_test(test)"
   ]
  },
  {
   "cell_type": "markdown",
   "id": "2b910822-3ea0-4bdc-837d-795b349d7912",
   "metadata": {},
   "source": [
    "## Towers of Hanoi"
   ]
  },
  {
   "cell_type": "code",
   "execution_count": 16,
   "id": "05997e2a-5f25-4060-8fa2-874190bb8dd1",
   "metadata": {},
   "outputs": [
    {
     "name": "stdout",
     "output_type": "stream",
     "text": [
      "[3, 2, 1]\n",
      "[]\n",
      "[]\n",
      "\n",
      "[3, 2]\n",
      "[]\n",
      "[1]\n",
      "\n",
      "[3]\n",
      "[1]\n",
      "[2]\n",
      "\n",
      "[]\n",
      "[3]\n",
      "[2, 1]\n",
      "\n",
      "[]\n",
      "[2, 1]\n",
      "[3]\n",
      "\n",
      "[2]\n",
      "[3]\n",
      "[1]\n",
      "\n",
      "[]\n",
      "[1]\n",
      "[3, 2]\n",
      "\n",
      "[]\n",
      "[]\n",
      "[3, 2, 1]\n",
      "\n"
     ]
    },
    {
     "data": {
      "text/plain": [
       "7"
      ]
     },
     "execution_count": 16,
     "metadata": {},
     "output_type": "execute_result"
    }
   ],
   "source": [
    "# print order changes\n",
    "def toh(a,b,c,n):\n",
    "    global count\n",
    "    if n == 1:\n",
    "        disk = a.pop()\n",
    "        c.append(disk)\n",
    "        count += 1\n",
    "        print(f'{a}\\n{b}\\n{c}\\n')\n",
    "    else:\n",
    "        toh(a,c,b,n-1)\n",
    "        toh(a,b,c,1)\n",
    "        toh(b,a,c,n-1)\n",
    "    return count\n",
    "\n",
    "count = 0\n",
    "z = 3\n",
    "a = []\n",
    "for i in range(z):\n",
    "    a.insert(0,i+1)\n",
    "b = []\n",
    "c = []\n",
    "print(f'{a}\\n{b}\\n{c}\\n')\n",
    "toh(a,b,c,z)"
   ]
  },
  {
   "cell_type": "code",
   "execution_count": 17,
   "id": "d0dafb3e-864b-42b1-8892-9aa9d8d5723a",
   "metadata": {},
   "outputs": [
    {
     "name": "stdout",
     "output_type": "stream",
     "text": [
      "[45, 87, 6, 70, 2, 5, 3, 24]\n"
     ]
    },
    {
     "data": {
      "text/plain": [
       "[2, 3, 5, 6, 24, 45, 70, 87]"
      ]
     },
     "execution_count": 17,
     "metadata": {},
     "output_type": "execute_result"
    }
   ],
   "source": [
    "def insertion_sort(l):\n",
    "    n = len(l)\n",
    "    for i in range (1,n):\n",
    "        x = l[i]\n",
    "        j = i\n",
    "        # print(f'\\n{x} in position {i+1}')\n",
    "        # print(l)\n",
    "        while j > 0 and l[j-1] > x:\n",
    "            l[j] = l[j-1]\n",
    "            j = j-1\n",
    "        l[j] = x\n",
    "    return l\n",
    "test = [45,87,6,70,2,5,3,24]\n",
    "print(test)\n",
    "insertion_sort(test)"
   ]
  },
  {
   "cell_type": "code",
   "execution_count": 18,
   "id": "60e460a9-87e1-4208-89cd-fbbe11b71b03",
   "metadata": {},
   "outputs": [
    {
     "name": "stdout",
     "output_type": "stream",
     "text": [
      "371449635398431: True\n",
      "371449635398413: False\n"
     ]
    }
   ],
   "source": [
    "def luhn(number):\n",
    "    card = str(number)\n",
    "    card_reverse = card[::-1]\n",
    "    n = len(card)\n",
    "    if n%2 > 0:\n",
    "        valid = False\n",
    "    sum = 0\n",
    "    for i in range(0,n,2):\n",
    "        sum += int(card_reverse[i])\n",
    "    for i in range(1,n,2):\n",
    "        if 2*int(card_reverse[i]) > 10:\n",
    "            sum += 1\n",
    "            sum += 2*int(card_reverse[i])%10\n",
    "        else:\n",
    "            sum += 2*int(card_reverse[i]) \n",
    "    r = sum%10\n",
    "    valid = True if r == 0 else False\n",
    "    return valid\n",
    "\n",
    "card = 371449635398431\n",
    "print(f'{card}: {luhn(card)}')\n",
    "card = 371449635398413\n",
    "print(f'{card}: {luhn(card)}')"
   ]
  }
 ],
 "metadata": {
  "kernelspec": {
   "display_name": "Python 3 (ipykernel)",
   "language": "python",
   "name": "python3"
  },
  "language_info": {
   "codemirror_mode": {
    "name": "ipython",
    "version": 3
   },
   "file_extension": ".py",
   "mimetype": "text/x-python",
   "name": "python",
   "nbconvert_exporter": "python",
   "pygments_lexer": "ipython3",
   "version": "3.12.5"
  }
 },
 "nbformat": 4,
 "nbformat_minor": 5
}
