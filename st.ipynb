{
 "cells": [
  {
   "cell_type": "markdown",
   "id": "3f9309e2-790a-47cf-a5c0-e0a6e5c038a3",
   "metadata": {},
   "source": [
    "# Imports and data"
   ]
  },
  {
   "cell_type": "code",
   "execution_count": 1,
   "id": "9356d6d7-b388-4828-984f-977b21c2bddf",
   "metadata": {
    "editable": true,
    "slideshow": {
     "slide_type": ""
    },
    "tags": []
   },
   "outputs": [],
   "source": [
    "import time\n",
    "import numpy as np\n",
    "import pandas as pd\n",
    "\n",
    "import matplotlib.pyplot as plt\n",
    "import seaborn as sns\n",
    "sns.set()\n",
    "\n",
    "import statsmodels.api as sm\n",
    "from statsmodels.stats.outliers_influence import variance_inflation_factor\n",
    "\n",
    "from sklearn.model_selection import train_test_split, cross_val_score, GridSearchCV\n",
    "from sklearn.metrics import mean_absolute_error, mean_squared_error, make_scorer, r2_score\n",
    "from sklearn.linear_model import LinearRegression\n",
    "from sklearn.tree import DecisionTreeRegressor\n",
    "from sklearn.ensemble import RandomForestRegressor, GradientBoostingRegressor\n",
    "\n",
    "from xgboost import XGBRegressor\n",
    "\n",
    "from scipy.stats import ttest_rel"
   ]
  },
  {
   "cell_type": "code",
   "execution_count": 2,
   "id": "e78e56c3-d034-4e36-a661-c77a9b7d987f",
   "metadata": {
    "editable": true,
    "slideshow": {
     "slide_type": ""
    },
    "tags": []
   },
   "outputs": [
    {
     "data": {
      "text/html": [
       "<div>\n",
       "<style scoped>\n",
       "    .dataframe tbody tr th:only-of-type {\n",
       "        vertical-align: middle;\n",
       "    }\n",
       "\n",
       "    .dataframe tbody tr th {\n",
       "        vertical-align: top;\n",
       "    }\n",
       "\n",
       "    .dataframe thead th {\n",
       "        text-align: right;\n",
       "    }\n",
       "</style>\n",
       "<table border=\"1\" class=\"dataframe\">\n",
       "  <thead>\n",
       "    <tr style=\"text-align: right;\">\n",
       "      <th></th>\n",
       "      <th>Price</th>\n",
       "      <th>Year</th>\n",
       "      <th>Mileage</th>\n",
       "      <th>Distance</th>\n",
       "      <th>Private</th>\n",
       "      <th>Generation</th>\n",
       "    </tr>\n",
       "  </thead>\n",
       "  <tbody>\n",
       "    <tr>\n",
       "      <th>count</th>\n",
       "      <td>163.000000</td>\n",
       "      <td>163.000000</td>\n",
       "      <td>163.000000</td>\n",
       "      <td>163.000000</td>\n",
       "      <td>163.000000</td>\n",
       "      <td>163.000000</td>\n",
       "    </tr>\n",
       "    <tr>\n",
       "      <th>mean</th>\n",
       "      <td>8514.147239</td>\n",
       "      <td>2015.852761</td>\n",
       "      <td>62636.717791</td>\n",
       "      <td>170.742331</td>\n",
       "      <td>0.331288</td>\n",
       "      <td>7.073620</td>\n",
       "    </tr>\n",
       "    <tr>\n",
       "      <th>std</th>\n",
       "      <td>2330.041284</td>\n",
       "      <td>1.306362</td>\n",
       "      <td>24012.078352</td>\n",
       "      <td>65.825957</td>\n",
       "      <td>0.472127</td>\n",
       "      <td>0.261956</td>\n",
       "    </tr>\n",
       "    <tr>\n",
       "      <th>min</th>\n",
       "      <td>3030.000000</td>\n",
       "      <td>2014.000000</td>\n",
       "      <td>19000.000000</td>\n",
       "      <td>7.000000</td>\n",
       "      <td>0.000000</td>\n",
       "      <td>7.000000</td>\n",
       "    </tr>\n",
       "    <tr>\n",
       "      <th>25%</th>\n",
       "      <td>6797.000000</td>\n",
       "      <td>2015.000000</td>\n",
       "      <td>44500.000000</td>\n",
       "      <td>135.500000</td>\n",
       "      <td>0.000000</td>\n",
       "      <td>7.000000</td>\n",
       "    </tr>\n",
       "    <tr>\n",
       "      <th>50%</th>\n",
       "      <td>8500.000000</td>\n",
       "      <td>2016.000000</td>\n",
       "      <td>60600.000000</td>\n",
       "      <td>167.000000</td>\n",
       "      <td>0.000000</td>\n",
       "      <td>7.000000</td>\n",
       "    </tr>\n",
       "    <tr>\n",
       "      <th>75%</th>\n",
       "      <td>9892.500000</td>\n",
       "      <td>2017.000000</td>\n",
       "      <td>76177.000000</td>\n",
       "      <td>202.000000</td>\n",
       "      <td>1.000000</td>\n",
       "      <td>7.000000</td>\n",
       "    </tr>\n",
       "    <tr>\n",
       "      <th>max</th>\n",
       "      <td>14995.000000</td>\n",
       "      <td>2020.000000</td>\n",
       "      <td>164530.000000</td>\n",
       "      <td>357.000000</td>\n",
       "      <td>1.000000</td>\n",
       "      <td>8.000000</td>\n",
       "    </tr>\n",
       "  </tbody>\n",
       "</table>\n",
       "</div>"
      ],
      "text/plain": [
       "              Price         Year        Mileage    Distance     Private  \\\n",
       "count    163.000000   163.000000     163.000000  163.000000  163.000000   \n",
       "mean    8514.147239  2015.852761   62636.717791  170.742331    0.331288   \n",
       "std     2330.041284     1.306362   24012.078352   65.825957    0.472127   \n",
       "min     3030.000000  2014.000000   19000.000000    7.000000    0.000000   \n",
       "25%     6797.000000  2015.000000   44500.000000  135.500000    0.000000   \n",
       "50%     8500.000000  2016.000000   60600.000000  167.000000    0.000000   \n",
       "75%     9892.500000  2017.000000   76177.000000  202.000000    1.000000   \n",
       "max    14995.000000  2020.000000  164530.000000  357.000000    1.000000   \n",
       "\n",
       "       Generation  \n",
       "count  163.000000  \n",
       "mean     7.073620  \n",
       "std      0.261956  \n",
       "min      7.000000  \n",
       "25%      7.000000  \n",
       "50%      7.000000  \n",
       "75%      7.000000  \n",
       "max      8.000000  "
      ]
     },
     "execution_count": 2,
     "metadata": {},
     "output_type": "execute_result"
    }
   ],
   "source": [
    "data = pd.read_csv('data/st.csv')\n",
    "# data.head()\n",
    "data.describe()"
   ]
  },
  {
   "cell_type": "markdown",
   "id": "208608da-033f-41a9-820c-596e8509ea4a",
   "metadata": {},
   "source": [
    "# Graphs"
   ]
  },
  {
   "cell_type": "code",
   "execution_count": 90,
   "id": "5cbd0389-7c28-4dd2-b6e9-9f8c61a33ee7",
   "metadata": {},
   "outputs": [
    {
     "data": {
      "image/png": "[encoded data removed]",
      "text/plain": [
       "<Figure size 640x480 with 1 Axes>"
      ]
     },
     "metadata": {},
     "output_type": "display_data"
    }
   ],
   "source": [
    "private_gen7_data = data[(data['Private'] == 1) & (data['Generation'] == 7)]\n",
    "trade_gen7_data = data[(data['Private'] == 0) & (data['Generation'] == 7)]\n",
    "\n",
    "y_private = private_gen7_data['Price']\n",
    "y_trade = trade_gen7_data['Price']\n",
    "\n",
    "x2p = private_gen7_data['Mileage']\n",
    "x2t = trade_gen7_data['Mileage']\n",
    "\n",
    "plt.plot(x2p, y_private, label='Private, 7th Gen')\n",
    "plt.plot(x2t, y_trade, label='Trade, 7th Gen')\n",
    "plt.plot(38000, 10995, '*-', markersize=20, label='Mine')\n",
    "plt.plot(38000, 9999, '*-', markersize=20, label=\"Prediction\")\n",
    "\n",
    "plt.xlabel('Mileage')\n",
    "plt.ylabel('Price')\n",
    "plt.legend()\n",
    "\n",
    "plt.show()"
   ]
  },
  {
   "cell_type": "code",
   "execution_count": 93,
   "id": "c78c7eea-fa96-486e-a610-d0c824c796fe",
   "metadata": {
    "editable": true,
    "slideshow": {
     "slide_type": ""
    },
    "tags": []
   },
   "outputs": [
    {
     "data": {
      "image/png": "[encoded data removed]",
      "text/plain": [
       "<Figure size 400x400 with 5 Axes>"
      ]
     },
     "metadata": {},
     "output_type": "display_data"
    }
   ],
   "source": [
    "y = data['Price']\n",
    "x1 = data['Year']\n",
    "x2 = data['Mileage']\n",
    "x3 = data['Distance']\n",
    "x4 = data['Private']\n",
    "x5 = data['Generation']\n",
    "\n",
    "fig, ax1 = plt.subplots(figsize=(4, 4))\n",
    "\n",
    "ax1.plot(x1, y, 'o-', label='Year', color='blue')\n",
    "ax1.set_ylabel('Price')\n",
    "ax1.set_xlabel('Year')\n",
    "\n",
    "ax2 = ax1.twiny()\n",
    "ax2.plot(x2, y, 's-', label='Mileage', color='green')\n",
    "ax2.set_xlabel('Mileage')\n",
    "\n",
    "ax3 = ax1.twiny()\n",
    "ax3.plot(x3, y, '^-', label='Distance', color='red')\n",
    "ax3.set_xlabel('Distance')\n",
    "\n",
    "ax4 = ax1.twiny()\n",
    "ax4.plot(x4, y, '*-', label='Private', color='brown')\n",
    "ax4.set_xlabel('Private')\n",
    "\n",
    "ax5 = ax1.twiny()\n",
    "ax5.plot(x5, y, '*-', label='Generation', color='pink')\n",
    "ax5.set_xlabel('Generation')\n",
    "\n",
    "fig.legend(loc='upper right', bbox_to_anchor=(1, 1), bbox_transform=ax1.transAxes)\n",
    "\n",
    "plt.show()"
   ]
  },
  {
   "cell_type": "markdown",
   "id": "8d7452e7-5983-435a-9f38-52c5c0ac9e1f",
   "metadata": {},
   "source": [
    "# statsmodels"
   ]
  },
  {
   "cell_type": "code",
   "execution_count": 3,
   "id": "764adbc6-3f2b-4c69-b3f3-51553130beea",
   "metadata": {},
   "outputs": [
    {
     "data": {
      "text/html": [
       "<table class=\"simpletable\">\n",
       "<caption>OLS Regression Results</caption>\n",
       "<tr>\n",
       "  <th>Dep. Variable:</th>          <td>Price</td>      <th>  R-squared:         </th> <td>   0.868</td>\n",
       "</tr>\n",
       "<tr>\n",
       "  <th>Model:</th>                   <td>OLS</td>       <th>  Adj. R-squared:    </th> <td>   0.864</td>\n",
       "</tr>\n",
       "<tr>\n",
       "  <th>Method:</th>             <td>Least Squares</td>  <th>  F-statistic:       </th> <td>   206.8</td>\n",
       "</tr>\n",
       "<tr>\n",
       "  <th>Date:</th>             <td>Tue, 10 Sep 2024</td> <th>  Prob (F-statistic):</th> <td>3.61e-67</td>\n",
       "</tr>\n",
       "<tr>\n",
       "  <th>Time:</th>                 <td>15:22:43</td>     <th>  Log-Likelihood:    </th> <td> -1329.5</td>\n",
       "</tr>\n",
       "<tr>\n",
       "  <th>No. Observations:</th>      <td>   163</td>      <th>  AIC:               </th> <td>   2671.</td>\n",
       "</tr>\n",
       "<tr>\n",
       "  <th>Df Residuals:</th>          <td>   157</td>      <th>  BIC:               </th> <td>   2690.</td>\n",
       "</tr>\n",
       "<tr>\n",
       "  <th>Df Model:</th>              <td>     5</td>      <th>                     </th>     <td> </td>   \n",
       "</tr>\n",
       "<tr>\n",
       "  <th>Covariance Type:</th>      <td>nonrobust</td>    <th>                     </th>     <td> </td>   \n",
       "</tr>\n",
       "</table>\n",
       "<table class=\"simpletable\">\n",
       "<tr>\n",
       "       <td></td>         <th>coef</th>     <th>std err</th>      <th>t</th>      <th>P>|t|</th>  <th>[0.025</th>    <th>0.975]</th>  \n",
       "</tr>\n",
       "<tr>\n",
       "  <th>const</th>      <td>-7.079e+05</td> <td> 1.38e+05</td> <td>   -5.121</td> <td> 0.000</td> <td>-9.81e+05</td> <td>-4.35e+05</td>\n",
       "</tr>\n",
       "<tr>\n",
       "  <th>Year</th>       <td>  346.8249</td> <td>   69.252</td> <td>    5.008</td> <td> 0.000</td> <td>  210.038</td> <td>  483.612</td>\n",
       "</tr>\n",
       "<tr>\n",
       "  <th>Mileage</th>    <td>   -0.0660</td> <td>    0.003</td> <td>  -22.033</td> <td> 0.000</td> <td>   -0.072</td> <td>   -0.060</td>\n",
       "</tr>\n",
       "<tr>\n",
       "  <th>Distance</th>   <td>    0.5798</td> <td>    1.059</td> <td>    0.548</td> <td> 0.585</td> <td>   -1.512</td> <td>    2.671</td>\n",
       "</tr>\n",
       "<tr>\n",
       "  <th>Private</th>    <td> -397.5938</td> <td>  158.544</td> <td>   -2.508</td> <td> 0.013</td> <td> -710.749</td> <td>  -84.439</td>\n",
       "</tr>\n",
       "<tr>\n",
       "  <th>Generation</th> <td> 3024.1582</td> <td>  357.633</td> <td>    8.456</td> <td> 0.000</td> <td> 2317.765</td> <td> 3730.552</td>\n",
       "</tr>\n",
       "</table>\n",
       "<table class=\"simpletable\">\n",
       "<tr>\n",
       "  <th>Omnibus:</th>       <td>40.004</td> <th>  Durbin-Watson:     </th> <td>   1.367</td>\n",
       "</tr>\n",
       "<tr>\n",
       "  <th>Prob(Omnibus):</th> <td> 0.000</td> <th>  Jarque-Bera (JB):  </th> <td> 118.278</td>\n",
       "</tr>\n",
       "<tr>\n",
       "  <th>Skew:</th>          <td> 0.947</td> <th>  Prob(JB):          </th> <td>2.07e-26</td>\n",
       "</tr>\n",
       "<tr>\n",
       "  <th>Kurtosis:</th>      <td> 6.719</td> <th>  Cond. No.          </th> <td>1.38e+08</td>\n",
       "</tr>\n",
       "</table><br/><br/>Notes:<br/>[1] Standard Errors assume that the covariance matrix of the errors is correctly specified.<br/>[2] The condition number is large, 1.38e+08. This might indicate that there are<br/>strong multicollinearity or other numerical problems."
      ],
      "text/latex": [
       "\\begin{center}\n",
       "\\begin{tabular}{lclc}\n",
       "\\toprule\n",
       "\\textbf{Dep. Variable:}    &      Price       & \\textbf{  R-squared:         } &     0.868   \\\\\n",
       "\\textbf{Model:}            &       OLS        & \\textbf{  Adj. R-squared:    } &     0.864   \\\\\n",
       "\\textbf{Method:}           &  Least Squares   & \\textbf{  F-statistic:       } &     206.8   \\\\\n",
       "\\textbf{Date:}             & Tue, 10 Sep 2024 & \\textbf{  Prob (F-statistic):} &  3.61e-67   \\\\\n",
       "\\textbf{Time:}             &     15:22:43     & \\textbf{  Log-Likelihood:    } &   -1329.5   \\\\\n",
       "\\textbf{No. Observations:} &         163      & \\textbf{  AIC:               } &     2671.   \\\\\n",
       "\\textbf{Df Residuals:}     &         157      & \\textbf{  BIC:               } &     2690.   \\\\\n",
       "\\textbf{Df Model:}         &           5      & \\textbf{                     } &             \\\\\n",
       "\\textbf{Covariance Type:}  &    nonrobust     & \\textbf{                     } &             \\\\\n",
       "\\bottomrule\n",
       "\\end{tabular}\n",
       "\\begin{tabular}{lcccccc}\n",
       "                    & \\textbf{coef} & \\textbf{std err} & \\textbf{t} & \\textbf{P$> |$t$|$} & \\textbf{[0.025} & \\textbf{0.975]}  \\\\\n",
       "\\midrule\n",
       "\\textbf{const}      &   -7.079e+05  &     1.38e+05     &    -5.121  &         0.000        &    -9.81e+05    &    -4.35e+05     \\\\\n",
       "\\textbf{Year}       &     346.8249  &       69.252     &     5.008  &         0.000        &      210.038    &      483.612     \\\\\n",
       "\\textbf{Mileage}    &      -0.0660  &        0.003     &   -22.033  &         0.000        &       -0.072    &       -0.060     \\\\\n",
       "\\textbf{Distance}   &       0.5798  &        1.059     &     0.548  &         0.585        &       -1.512    &        2.671     \\\\\n",
       "\\textbf{Private}    &    -397.5938  &      158.544     &    -2.508  &         0.013        &     -710.749    &      -84.439     \\\\\n",
       "\\textbf{Generation} &    3024.1582  &      357.633     &     8.456  &         0.000        &     2317.765    &     3730.552     \\\\\n",
       "\\bottomrule\n",
       "\\end{tabular}\n",
       "\\begin{tabular}{lclc}\n",
       "\\textbf{Omnibus:}       & 40.004 & \\textbf{  Durbin-Watson:     } &    1.367  \\\\\n",
       "\\textbf{Prob(Omnibus):} &  0.000 & \\textbf{  Jarque-Bera (JB):  } &  118.278  \\\\\n",
       "\\textbf{Skew:}          &  0.947 & \\textbf{  Prob(JB):          } & 2.07e-26  \\\\\n",
       "\\textbf{Kurtosis:}      &  6.719 & \\textbf{  Cond. No.          } & 1.38e+08  \\\\\n",
       "\\bottomrule\n",
       "\\end{tabular}\n",
       "%\\caption{OLS Regression Results}\n",
       "\\end{center}\n",
       "\n",
       "Notes: \\newline\n",
       " [1] Standard Errors assume that the covariance matrix of the errors is correctly specified. \\newline\n",
       " [2] The condition number is large, 1.38e+08. This might indicate that there are \\newline\n",
       " strong multicollinearity or other numerical problems."
      ],
      "text/plain": [
       "<class 'statsmodels.iolib.summary.Summary'>\n",
       "\"\"\"\n",
       "                            OLS Regression Results                            \n",
       "==============================================================================\n",
       "Dep. Variable:                  Price   R-squared:                       0.868\n",
       "Model:                            OLS   Adj. R-squared:                  0.864\n",
       "Method:                 Least Squares   F-statistic:                     206.8\n",
       "Date:                Tue, 10 Sep 2024   Prob (F-statistic):           3.61e-67\n",
       "Time:                        15:22:43   Log-Likelihood:                -1329.5\n",
       "No. Observations:                 163   AIC:                             2671.\n",
       "Df Residuals:                     157   BIC:                             2690.\n",
       "Df Model:                           5                                         \n",
       "Covariance Type:            nonrobust                                         \n",
       "==============================================================================\n",
       "                 coef    std err          t      P>|t|      [0.025      0.975]\n",
       "------------------------------------------------------------------------------\n",
       "const      -7.079e+05   1.38e+05     -5.121      0.000   -9.81e+05   -4.35e+05\n",
       "Year         346.8249     69.252      5.008      0.000     210.038     483.612\n",
       "Mileage       -0.0660      0.003    -22.033      0.000      -0.072      -0.060\n",
       "Distance       0.5798      1.059      0.548      0.585      -1.512       2.671\n",
       "Private     -397.5938    158.544     -2.508      0.013    -710.749     -84.439\n",
       "Generation  3024.1582    357.633      8.456      0.000    2317.765    3730.552\n",
       "==============================================================================\n",
       "Omnibus:                       40.004   Durbin-Watson:                   1.367\n",
       "Prob(Omnibus):                  0.000   Jarque-Bera (JB):              118.278\n",
       "Skew:                           0.947   Prob(JB):                     2.07e-26\n",
       "Kurtosis:                       6.719   Cond. No.                     1.38e+08\n",
       "==============================================================================\n",
       "\n",
       "Notes:\n",
       "[1] Standard Errors assume that the covariance matrix of the errors is correctly specified.\n",
       "[2] The condition number is large, 1.38e+08. This might indicate that there are\n",
       "strong multicollinearity or other numerical problems.\n",
       "\"\"\""
      ]
     },
     "execution_count": 3,
     "metadata": {},
     "output_type": "execute_result"
    }
   ],
   "source": [
    "y = data['Price']\n",
    "x1 = data[['Year','Mileage','Distance','Private','Generation']]\n",
    "x = sm.add_constant(x1)\n",
    "model_ols = sm.OLS(y,x).fit()\n",
    "model_ols.summary()"
   ]
  },
  {
   "cell_type": "code",
   "execution_count": 4,
   "id": "f870b51b-b375-4453-a9f4-2c2e384af3f7",
   "metadata": {},
   "outputs": [
    {
     "data": {
      "text/html": [
       "<table class=\"simpletable\">\n",
       "<caption>OLS Regression Results</caption>\n",
       "<tr>\n",
       "  <th>Dep. Variable:</th>          <td>Price</td>      <th>  R-squared:         </th> <td>   0.868</td>\n",
       "</tr>\n",
       "<tr>\n",
       "  <th>Model:</th>                   <td>OLS</td>       <th>  Adj. R-squared:    </th> <td>   0.865</td>\n",
       "</tr>\n",
       "<tr>\n",
       "  <th>Method:</th>             <td>Least Squares</td>  <th>  F-statistic:       </th> <td>   259.6</td>\n",
       "</tr>\n",
       "<tr>\n",
       "  <th>Date:</th>             <td>Tue, 10 Sep 2024</td> <th>  Prob (F-statistic):</th> <td>2.44e-68</td>\n",
       "</tr>\n",
       "<tr>\n",
       "  <th>Time:</th>                 <td>15:23:48</td>     <th>  Log-Likelihood:    </th> <td> -1329.6</td>\n",
       "</tr>\n",
       "<tr>\n",
       "  <th>No. Observations:</th>      <td>   163</td>      <th>  AIC:               </th> <td>   2669.</td>\n",
       "</tr>\n",
       "<tr>\n",
       "  <th>Df Residuals:</th>          <td>   158</td>      <th>  BIC:               </th> <td>   2685.</td>\n",
       "</tr>\n",
       "<tr>\n",
       "  <th>Df Model:</th>              <td>     4</td>      <th>                     </th>     <td> </td>   \n",
       "</tr>\n",
       "<tr>\n",
       "  <th>Covariance Type:</th>      <td>nonrobust</td>    <th>                     </th>     <td> </td>   \n",
       "</tr>\n",
       "</table>\n",
       "<table class=\"simpletable\">\n",
       "<tr>\n",
       "       <td></td>         <th>coef</th>     <th>std err</th>      <th>t</th>      <th>P>|t|</th>  <th>[0.025</th>    <th>0.975]</th>  \n",
       "</tr>\n",
       "<tr>\n",
       "  <th>const</th>      <td>-7.012e+05</td> <td> 1.37e+05</td> <td>   -5.104</td> <td> 0.000</td> <td>-9.73e+05</td> <td> -4.3e+05</td>\n",
       "</tr>\n",
       "<tr>\n",
       "  <th>Year</th>       <td>  343.6139</td> <td>   68.851</td> <td>    4.991</td> <td> 0.000</td> <td>  207.627</td> <td>  479.600</td>\n",
       "</tr>\n",
       "<tr>\n",
       "  <th>Mileage</th>    <td>   -0.0660</td> <td>    0.003</td> <td>  -22.076</td> <td> 0.000</td> <td>   -0.072</td> <td>   -0.060</td>\n",
       "</tr>\n",
       "<tr>\n",
       "  <th>Private</th>    <td> -409.6819</td> <td>  156.652</td> <td>   -2.615</td> <td> 0.010</td> <td> -719.084</td> <td> -100.280</td>\n",
       "</tr>\n",
       "<tr>\n",
       "  <th>Generation</th> <td> 3015.4239</td> <td>  356.485</td> <td>    8.459</td> <td> 0.000</td> <td> 2311.333</td> <td> 3719.514</td>\n",
       "</tr>\n",
       "</table>\n",
       "<table class=\"simpletable\">\n",
       "<tr>\n",
       "  <th>Omnibus:</th>       <td>41.615</td> <th>  Durbin-Watson:     </th> <td>   1.372</td>\n",
       "</tr>\n",
       "<tr>\n",
       "  <th>Prob(Omnibus):</th> <td> 0.000</td> <th>  Jarque-Bera (JB):  </th> <td> 132.002</td>\n",
       "</tr>\n",
       "<tr>\n",
       "  <th>Skew:</th>          <td> 0.961</td> <th>  Prob(JB):          </th> <td>2.17e-29</td>\n",
       "</tr>\n",
       "<tr>\n",
       "  <th>Kurtosis:</th>      <td> 6.968</td> <th>  Cond. No.          </th> <td>1.37e+08</td>\n",
       "</tr>\n",
       "</table><br/><br/>Notes:<br/>[1] Standard Errors assume that the covariance matrix of the errors is correctly specified.<br/>[2] The condition number is large, 1.37e+08. This might indicate that there are<br/>strong multicollinearity or other numerical problems."
      ],
      "text/latex": [
       "\\begin{center}\n",
       "\\begin{tabular}{lclc}\n",
       "\\toprule\n",
       "\\textbf{Dep. Variable:}    &      Price       & \\textbf{  R-squared:         } &     0.868   \\\\\n",
       "\\textbf{Model:}            &       OLS        & \\textbf{  Adj. R-squared:    } &     0.865   \\\\\n",
       "\\textbf{Method:}           &  Least Squares   & \\textbf{  F-statistic:       } &     259.6   \\\\\n",
       "\\textbf{Date:}             & Tue, 10 Sep 2024 & \\textbf{  Prob (F-statistic):} &  2.44e-68   \\\\\n",
       "\\textbf{Time:}             &     15:23:48     & \\textbf{  Log-Likelihood:    } &   -1329.6   \\\\\n",
       "\\textbf{No. Observations:} &         163      & \\textbf{  AIC:               } &     2669.   \\\\\n",
       "\\textbf{Df Residuals:}     &         158      & \\textbf{  BIC:               } &     2685.   \\\\\n",
       "\\textbf{Df Model:}         &           4      & \\textbf{                     } &             \\\\\n",
       "\\textbf{Covariance Type:}  &    nonrobust     & \\textbf{                     } &             \\\\\n",
       "\\bottomrule\n",
       "\\end{tabular}\n",
       "\\begin{tabular}{lcccccc}\n",
       "                    & \\textbf{coef} & \\textbf{std err} & \\textbf{t} & \\textbf{P$> |$t$|$} & \\textbf{[0.025} & \\textbf{0.975]}  \\\\\n",
       "\\midrule\n",
       "\\textbf{const}      &   -7.012e+05  &     1.37e+05     &    -5.104  &         0.000        &    -9.73e+05    &     -4.3e+05     \\\\\n",
       "\\textbf{Year}       &     343.6139  &       68.851     &     4.991  &         0.000        &      207.627    &      479.600     \\\\\n",
       "\\textbf{Mileage}    &      -0.0660  &        0.003     &   -22.076  &         0.000        &       -0.072    &       -0.060     \\\\\n",
       "\\textbf{Private}    &    -409.6819  &      156.652     &    -2.615  &         0.010        &     -719.084    &     -100.280     \\\\\n",
       "\\textbf{Generation} &    3015.4239  &      356.485     &     8.459  &         0.000        &     2311.333    &     3719.514     \\\\\n",
       "\\bottomrule\n",
       "\\end{tabular}\n",
       "\\begin{tabular}{lclc}\n",
       "\\textbf{Omnibus:}       & 41.615 & \\textbf{  Durbin-Watson:     } &    1.372  \\\\\n",
       "\\textbf{Prob(Omnibus):} &  0.000 & \\textbf{  Jarque-Bera (JB):  } &  132.002  \\\\\n",
       "\\textbf{Skew:}          &  0.961 & \\textbf{  Prob(JB):          } & 2.17e-29  \\\\\n",
       "\\textbf{Kurtosis:}      &  6.968 & \\textbf{  Cond. No.          } & 1.37e+08  \\\\\n",
       "\\bottomrule\n",
       "\\end{tabular}\n",
       "%\\caption{OLS Regression Results}\n",
       "\\end{center}\n",
       "\n",
       "Notes: \\newline\n",
       " [1] Standard Errors assume that the covariance matrix of the errors is correctly specified. \\newline\n",
       " [2] The condition number is large, 1.37e+08. This might indicate that there are \\newline\n",
       " strong multicollinearity or other numerical problems."
      ],
      "text/plain": [
       "<class 'statsmodels.iolib.summary.Summary'>\n",
       "\"\"\"\n",
       "                            OLS Regression Results                            \n",
       "==============================================================================\n",
       "Dep. Variable:                  Price   R-squared:                       0.868\n",
       "Model:                            OLS   Adj. R-squared:                  0.865\n",
       "Method:                 Least Squares   F-statistic:                     259.6\n",
       "Date:                Tue, 10 Sep 2024   Prob (F-statistic):           2.44e-68\n",
       "Time:                        15:23:48   Log-Likelihood:                -1329.6\n",
       "No. Observations:                 163   AIC:                             2669.\n",
       "Df Residuals:                     158   BIC:                             2685.\n",
       "Df Model:                           4                                         \n",
       "Covariance Type:            nonrobust                                         \n",
       "==============================================================================\n",
       "                 coef    std err          t      P>|t|      [0.025      0.975]\n",
       "------------------------------------------------------------------------------\n",
       "const      -7.012e+05   1.37e+05     -5.104      0.000   -9.73e+05    -4.3e+05\n",
       "Year         343.6139     68.851      4.991      0.000     207.627     479.600\n",
       "Mileage       -0.0660      0.003    -22.076      0.000      -0.072      -0.060\n",
       "Private     -409.6819    156.652     -2.615      0.010    -719.084    -100.280\n",
       "Generation  3015.4239    356.485      8.459      0.000    2311.333    3719.514\n",
       "==============================================================================\n",
       "Omnibus:                       41.615   Durbin-Watson:                   1.372\n",
       "Prob(Omnibus):                  0.000   Jarque-Bera (JB):              132.002\n",
       "Skew:                           0.961   Prob(JB):                     2.17e-29\n",
       "Kurtosis:                       6.968   Cond. No.                     1.37e+08\n",
       "==============================================================================\n",
       "\n",
       "Notes:\n",
       "[1] Standard Errors assume that the covariance matrix of the errors is correctly specified.\n",
       "[2] The condition number is large, 1.37e+08. This might indicate that there are\n",
       "strong multicollinearity or other numerical problems.\n",
       "\"\"\""
      ]
     },
     "execution_count": 4,
     "metadata": {},
     "output_type": "execute_result"
    }
   ],
   "source": [
    "y = data['Price']\n",
    "x1 = data[['Year','Mileage','Private','Generation']]\n",
    "x = sm.add_constant(x1)\n",
    "model_ols = sm.OLS(y,x).fit()\n",
    "model_ols.summary()"
   ]
  },
  {
   "cell_type": "code",
   "execution_count": 95,
   "id": "e0b1321d-2469-47f7-b9a6-222af2d43ed2",
   "metadata": {
    "editable": true,
    "slideshow": {
     "slide_type": ""
    },
    "tags": []
   },
   "outputs": [
    {
     "data": {
      "text/html": [
       "<div>\n",
       "<style scoped>\n",
       "    .dataframe tbody tr th:only-of-type {\n",
       "        vertical-align: middle;\n",
       "    }\n",
       "\n",
       "    .dataframe tbody tr th {\n",
       "        vertical-align: top;\n",
       "    }\n",
       "\n",
       "    .dataframe thead th {\n",
       "        text-align: right;\n",
       "    }\n",
       "</style>\n",
       "<table border=\"1\" class=\"dataframe\">\n",
       "  <thead>\n",
       "    <tr style=\"text-align: right;\">\n",
       "      <th></th>\n",
       "      <th>VIF</th>\n",
       "      <th>features</th>\n",
       "    </tr>\n",
       "  </thead>\n",
       "  <tbody>\n",
       "    <tr>\n",
       "      <th>0</th>\n",
       "      <td>1013.143048</td>\n",
       "      <td>Year</td>\n",
       "    </tr>\n",
       "    <tr>\n",
       "      <th>1</th>\n",
       "      <td>8.317946</td>\n",
       "      <td>Mileage</td>\n",
       "    </tr>\n",
       "    <tr>\n",
       "      <th>2</th>\n",
       "      <td>8.217171</td>\n",
       "      <td>Distance</td>\n",
       "    </tr>\n",
       "    <tr>\n",
       "      <th>3</th>\n",
       "      <td>1.822719</td>\n",
       "      <td>Private</td>\n",
       "    </tr>\n",
       "    <tr>\n",
       "      <th>4</th>\n",
       "      <td>960.102784</td>\n",
       "      <td>Generation</td>\n",
       "    </tr>\n",
       "  </tbody>\n",
       "</table>\n",
       "</div>"
      ],
      "text/plain": [
       "           VIF    features\n",
       "0  1013.143048        Year\n",
       "1     8.317946     Mileage\n",
       "2     8.217171    Distance\n",
       "3     1.822719     Private\n",
       "4   960.102784  Generation"
      ]
     },
     "execution_count": 95,
     "metadata": {},
     "output_type": "execute_result"
    }
   ],
   "source": [
    "variables = data[['Year', 'Mileage', 'Distance', 'Private', 'Generation']]\n",
    "vif = pd.DataFrame()\n",
    "vif[\"VIF\"] = [variance_inflation_factor(variables.values, i) for i in range(variables.shape[1])]\n",
    "vif[\"features\"] = variables.columns\n",
    "vif"
   ]
  },
  {
   "cell_type": "markdown",
   "id": "b2ff4adf-cf21-4d9d-abf1-69c741df5b3f",
   "metadata": {},
   "source": [
    "# sklearn"
   ]
  },
  {
   "cell_type": "code",
   "execution_count": 94,
   "id": "d3f0663b-4a6d-47c1-b8ce-51481885db97",
   "metadata": {
    "editable": true,
    "scrolled": true,
    "slideshow": {
     "slide_type": ""
    },
    "tags": []
   },
   "outputs": [],
   "source": [
    "X = data.drop(['Price'], axis=1).copy()\n",
    "y = data['Price'].copy()\n",
    "\n",
    "mine = pd.DataFrame({\n",
    "    'Year': [2017],\n",
    "    'Mileage': [38000],\n",
    "    'Distance': [1],\n",
    "    'Private': [1],\n",
    "    'Generation': [7]\n",
    "})"
   ]
  },
  {
   "cell_type": "markdown",
   "id": "56c11588-e465-4826-9015-94d854a029a6",
   "metadata": {},
   "source": [
    "## No split"
   ]
  },
  {
   "cell_type": "code",
   "execution_count": 96,
   "id": "6ed24e8f-c95d-4ccd-8273-a0343899cd57",
   "metadata": {
    "editable": true,
    "slideshow": {
     "slide_type": ""
    },
    "tags": []
   },
   "outputs": [
    {
     "name": "stdout",
     "output_type": "stream",
     "text": [
      "Linear:         £9952\n",
      "Decision Tree:  £10050\n",
      "Random Forest:  £10109\n",
      "Gradient Boost: £10369\n",
      "XGB Boost:      £10592\n",
      "Mean:           £10214\n",
      "\n"
     ]
    },
    {
     "data": {
      "text/html": [
       "<div>\n",
       "<style scoped>\n",
       "    .dataframe tbody tr th:only-of-type {\n",
       "        vertical-align: middle;\n",
       "    }\n",
       "\n",
       "    .dataframe tbody tr th {\n",
       "        vertical-align: top;\n",
       "    }\n",
       "\n",
       "    .dataframe thead th {\n",
       "        text-align: right;\n",
       "    }\n",
       "</style>\n",
       "<table border=\"1\" class=\"dataframe\">\n",
       "  <thead>\n",
       "    <tr style=\"text-align: right;\">\n",
       "      <th></th>\n",
       "      <th>Features</th>\n",
       "      <th>Weights</th>\n",
       "    </tr>\n",
       "  </thead>\n",
       "  <tbody>\n",
       "    <tr>\n",
       "      <th>0</th>\n",
       "      <td>Year</td>\n",
       "      <td>346.824903</td>\n",
       "    </tr>\n",
       "    <tr>\n",
       "      <th>1</th>\n",
       "      <td>Mileage</td>\n",
       "      <td>-0.066038</td>\n",
       "    </tr>\n",
       "    <tr>\n",
       "      <th>2</th>\n",
       "      <td>Distance</td>\n",
       "      <td>0.579833</td>\n",
       "    </tr>\n",
       "    <tr>\n",
       "      <th>3</th>\n",
       "      <td>Private</td>\n",
       "      <td>-397.593761</td>\n",
       "    </tr>\n",
       "    <tr>\n",
       "      <th>4</th>\n",
       "      <td>Generation</td>\n",
       "      <td>3024.158200</td>\n",
       "    </tr>\n",
       "  </tbody>\n",
       "</table>\n",
       "</div>"
      ],
      "text/plain": [
       "     Features      Weights\n",
       "0        Year   346.824903\n",
       "1     Mileage    -0.066038\n",
       "2    Distance     0.579833\n",
       "3     Private  -397.593761\n",
       "4  Generation  3024.158200"
      ]
     },
     "execution_count": 96,
     "metadata": {},
     "output_type": "execute_result"
    }
   ],
   "source": [
    "model_lr = LinearRegression()\n",
    "model_lr.fit(X,y)\n",
    "p_lr = model_lr.predict(mine).astype(int)\n",
    "model_lr_summary = pd.DataFrame(X.columns.values, columns=['Features'])\n",
    "model_lr_summary['Weights'] = model_lr.coef_\n",
    "\n",
    "model_dtr = DecisionTreeRegressor()\n",
    "model_dtr.fit(X,y)\n",
    "p_dtr = model_dtr.predict(mine).astype(int)\n",
    "\n",
    "model_rfr = RandomForestRegressor()\n",
    "model_rfr.fit(X,y)\n",
    "p_rfr = model_rfr.predict(mine).astype(int)\n",
    "\n",
    "model_gbr = GradientBoostingRegressor(random_state=42)\n",
    "model_gbr.fit(X,y)\n",
    "p_gbr = model_gbr.predict(mine).astype(int)\n",
    "\n",
    "model_xgb = XGBRegressor(random_state=42)\n",
    "model_xgb.fit(X,y)\n",
    "p_xgb = model_xgb.predict(mine).astype(int)\n",
    "\n",
    "print(f'Linear:         £{p_lr[0]}')\n",
    "print(f'Decision Tree:  £{p_dtr[0]}')\n",
    "print(f'Random Forest:  £{p_rfr[0]}')\n",
    "print(f'Gradient Boost: £{p_gbr[0]}')\n",
    "print(f'XGB Boost:      £{p_xgb[0]}')\n",
    "print(f'Mean:           £{int(np.mean([p_lr,p_dtr,p_rfr,p_gbr,p_xgb]))}')\n",
    "print()\n",
    "model_lr_summary"
   ]
  },
  {
   "cell_type": "markdown",
   "id": "712e756a-3277-412f-8ced-6193cba1cd0e",
   "metadata": {},
   "source": [
    "## Split"
   ]
  },
  {
   "cell_type": "code",
   "execution_count": 97,
   "id": "cf1f4dce-6620-40b3-a623-02ad30d3aee0",
   "metadata": {
    "editable": true,
    "slideshow": {
     "slide_type": ""
    },
    "tags": []
   },
   "outputs": [
    {
     "name": "stdout",
     "output_type": "stream",
     "text": [
      "Random Forest:\t\t[9986 7825 9299 6290 7506]\t\tMAE: 568\tPrediction: £10398\n",
      "Linear:\t\t\t[10120  8180  9449  6304  8154]\t\tMAE: 602\tPrediction: £9807\n",
      "Gradient Boost:\t\t[10575  7884  9207  6234  7280]\t\tMAE: 684\tPrediction: £10354\n",
      "XGB Boost:\t\t[10287  7174  9752  6379  7659]\t\tMAE: 777\tPrediction: £10275\n",
      "Decision Tree:\t\t[10490  7275  8995  6000  6795]\t\tMAE: 827\tPrediction: £10050\n"
     ]
    }
   ],
   "source": [
    "X_train, X_test, y_train, y_test = train_test_split(X, y, test_size=0.2, random_state=42)\n",
    "\n",
    "model_lr = LinearRegression()\n",
    "model_lr.fit(X_train,y_train)\n",
    "p_lr = model_lr.predict(X_test).astype(int)\n",
    "\n",
    "model_dtr = DecisionTreeRegressor(random_state=42)\n",
    "model_dtr.fit(X_train,y_train)\n",
    "p_dtr = model_dtr.predict(X_test).astype(int)\n",
    "\n",
    "model_rfr = RandomForestRegressor(random_state=42, n_estimators=100, criterion='absolute_error', max_depth=10, min_samples_split=5)\n",
    "model_rfr.fit(X_train,y_train)\n",
    "p_rfr = model_rfr.predict(X_test).astype(int)\n",
    "\n",
    "model_gbr = GradientBoostingRegressor(random_state=42)\n",
    "model_gbr.fit(X_train,y_train)\n",
    "p_gbr = model_gbr.predict(X_test).astype(int)\n",
    "\n",
    "model_xgb = XGBRegressor(random_state=42)\n",
    "model_xgb.fit(X_train,y_train)\n",
    "p_xgb = model_xgb.predict(X_test).astype(int)\n",
    "\n",
    "mae_lr = mean_absolute_error(y_test, p_lr)\n",
    "mae_dtr = mean_absolute_error(y_test, p_dtr)\n",
    "mae_rfr = mean_absolute_error(y_test, p_rfr)\n",
    "mae_gbr = mean_absolute_error(y_test, p_gbr)\n",
    "mae_xgb = mean_absolute_error(y_test, p_xgb)\n",
    "\n",
    "print(f'Random Forest:\\t\\t{p_rfr[:5]}\\t\\tMAE: {int(mae_rfr)}\\tPrediction: £{int(model_rfr.predict(mine)[0])}')\n",
    "print(f'Linear:\\t\\t\\t{p_lr[:5]}\\t\\tMAE: {int(mae_lr)}\\tPrediction: £{int(model_lr.predict(mine)[0])}')\n",
    "print(f'Gradient Boost:\\t\\t{p_gbr[:5]}\\t\\tMAE: {int(mae_gbr)}\\tPrediction: £{int(model_gbr.predict(mine)[0])}')\n",
    "print(f'XGB Boost:\\t\\t{p_xgb[:5]}\\t\\tMAE: {int(mae_xgb)}\\tPrediction: £{int(model_xgb.predict(mine)[0])}')\n",
    "print(f'Decision Tree:\\t\\t{p_dtr[:5]}\\t\\tMAE: {int(mae_dtr)}\\tPrediction: £{int(model_dtr.predict(mine)[0])}')"
   ]
  },
  {
   "cell_type": "markdown",
   "id": "f4847747-68d2-4ad4-9905-c77cad4bc0d8",
   "metadata": {},
   "source": [
    "## Tuning and experimenting"
   ]
  },
  {
   "cell_type": "markdown",
   "id": "6e5a9ae5-3562-4730-bbc3-04679163f949",
   "metadata": {},
   "source": [
    "### Cross validation"
   ]
  },
  {
   "cell_type": "code",
   "execution_count": 98,
   "id": "3cbda161-6113-45a5-9487-4c2c1f2761a5",
   "metadata": {
    "editable": true,
    "slideshow": {
     "slide_type": ""
    },
    "tags": []
   },
   "outputs": [
    {
     "name": "stdout",
     "output_type": "stream",
     "text": [
      "Linear\t\tCV MAE: 657.32\n",
      "Random Forest\tCV MAE: 788.38\n",
      "Decision Tree\tCV MAE: 1058.37\n"
     ]
    }
   ],
   "source": [
    "model_lr = LinearRegression()\n",
    "scores = cross_val_score(model_lr, X_train, y_train, cv=5, scoring='neg_mean_absolute_error')\n",
    "print(f\"Linear\\t\\tCV MAE: {-scores.mean():.2f}\")\n",
    "\n",
    "model_rfr = RandomForestRegressor()\n",
    "scores = cross_val_score(model_rfr, X_train, y_train, cv=5, scoring='neg_mean_absolute_error')\n",
    "print(f\"Random Forest\\tCV MAE: {-scores.mean():.2f}\")\n",
    "\n",
    "model_dtr = DecisionTreeRegressor()\n",
    "scores = cross_val_score(model_dtr, X_train, y_train, cv=5, scoring='neg_mean_absolute_error')\n",
    "print(f\"Decision Tree\\tCV MAE: {-scores.mean():.2f}\")"
   ]
  },
  {
   "cell_type": "markdown",
   "id": "177ff325-700d-488f-b0bd-107809725fae",
   "metadata": {
    "jp-MarkdownHeadingCollapsed": true
   },
   "source": [
    "### Manually testing with loops"
   ]
  },
  {
   "cell_type": "code",
   "execution_count": 26,
   "id": "0c1be9ff-da42-4ef0-aede-8b1efbd3a446",
   "metadata": {},
   "outputs": [
    {
     "name": "stdout",
     "output_type": "stream",
     "text": [
      "Random Forest\t53\t[390, 10052]\n",
      "Linear\t\t53\t[416, 9797]\n",
      "Linear\t\t81\t[491, 9934]\n",
      "Random Forest\t27\t[498, 9927]\n",
      "Linear\t\t20\t[500, 9938]\n",
      "Linear\t\t28\t[501, 9877]\n",
      "Linear\t\t9\t[502, 9847]\n",
      "Linear\t\t96\t[503, 9892]\n",
      "Random Forest\t20\t[514, 10277]\n",
      "Gradient Boost\t20\t[515, 10012]\n"
     ]
    }
   ],
   "source": [
    "results = []\n",
    "\n",
    "for n in range(0,100):\n",
    "    X_train, X_test, y_train, y_test = train_test_split(X, y, test_size=0.2, random_state=n)\n",
    "\n",
    "    model_lr = LinearRegression()\n",
    "    model_lr.fit(X_train,y_train)\n",
    "    p_lr = model_lr.predict(X_test).astype(int)\n",
    "    p_lr_mine = int(model_lr.predict(mine)[0])\n",
    "    mae_lr = mean_absolute_error(y_test, p_lr)\n",
    "    result = {f'Linear\\t\\t{n}': [int(mae_lr), p_lr_mine]}\n",
    "    results.append(result)\n",
    "    \n",
    "    model_dtr = DecisionTreeRegressor(random_state=n)\n",
    "    model_dtr.fit(X_train,y_train)\n",
    "    p_dtr = model_dtr.predict(X_test).astype(int)\n",
    "    p_dtr_mine = int(model_dtr.predict(mine)[0])\n",
    "    mae_dtr = mean_absolute_error(y_test, p_dtr)\n",
    "    result = {f'Decision Tree\\t{n}': [int(mae_dtr), p_dtr_mine]}\n",
    "    results.append(result)\n",
    "    \n",
    "    model_rfr = RandomForestRegressor(random_state=n, n_estimators=100, criterion='absolute_error', max_depth=10, min_samples_split=5)\n",
    "    model_rfr.fit(X_train,y_train)\n",
    "    p_rfr = model_rfr.predict(X_test).astype(int)\n",
    "    p_rfr_mine = int(model_rfr.predict(mine)[0])\n",
    "    mae_rfr = mean_absolute_error(y_test, p_rfr)\n",
    "    result = {f'Random Forest\\t{n}': [int(mae_rfr), p_rfr_mine]}\n",
    "    results.append(result)\n",
    "    \n",
    "    model_gbr = GradientBoostingRegressor(random_state=n)\n",
    "    model_gbr.fit(X_train,y_train)\n",
    "    p_gbr = model_gbr.predict(X_test).astype(int)\n",
    "    p_gbr_mine = int(model_xgb.predict(mine)[0])\n",
    "    mae_gbr = mean_absolute_error(y_test, p_gbr)\n",
    "    result = {f'Gradient Boost\\t{n}': [int(mae_gbr), p_gbr_mine]}\n",
    "    results.append(result)\n",
    "    \n",
    "    model_xgb = XGBRegressor(random_state=n)\n",
    "    model_xgb.fit(X_train,y_train)\n",
    "    p_xgb = model_xgb.predict(X_test).astype(int)\n",
    "    p_xgb_mine = int(model_xgb.predict(mine)[0])\n",
    "    mae_xgb = mean_absolute_error(y_test, p_xgb)\n",
    "    result = {f'XGB Boost\\t{n}': [int(mae_xgb), p_xgb_mine]}\n",
    "    results.append(result)\n",
    "\n",
    "    # print(f'Random state: {n}')\n",
    "    # print(f'Random Forest:\\t\\t{p_rfr[:5]}\\t\\tMAE: {int(mae_rfr)}\\tPrediction: £{p_rfr_mine}')\n",
    "    # print(f'Linear:\\t\\t\\t{p_lr[:5]}\\t\\tMAE: {int(mae_lr)}\\tPrediction: £{p_lr_mine}')\n",
    "    # print(f'Gradient Boost:\\t\\t{p_gbr[:5]}\\t\\tMAE: {int(mae_gbr)}\\tPrediction: £{p_gbr_mine}')\n",
    "    # print(f'XGB Boost:\\t\\t{p_xgb[:5]}\\t\\tMAE: {int(mae_xgb)}\\tPrediction: £{p_xgb_mine}')\n",
    "    # print(f'Decision Tree:\\t\\t{p_dtr[:5]}\\t\\tMAE: {int(mae_dtr)}\\tPrediction: £{p_dtr_mine}')\n",
    "    # print()\n",
    "\n",
    "sorted_results = sorted(results, key=lambda x: list(x.values())[0])\n",
    "sorted_results\n",
    "for result in sorted_results[:10]:\n",
    "    model, info = list(result.items())[0]\n",
    "    print(f\"{model}\\t{info}\")"
   ]
  },
  {
   "cell_type": "code",
   "execution_count": 18,
   "id": "9203f78e-3d22-4ea6-918d-75b6444af337",
   "metadata": {},
   "outputs": [
    {
     "name": "stdout",
     "output_type": "stream",
     "text": [
      "50/18/8 50/18/9 50/18/10 50/18/11 50/18/12 50/19/8 50/19/9 50/19/10 50/19/11 50/19/12 50/20/8 50/20/9 50/20/10 50/20/11 50/20/12 50/21/8 50/21/9 50/21/10 50/21/11 50/21/12 50/22/8 50/22/9 50/22/10 50/22/11 50/22/12 100/18/8 100/18/9 100/18/10 100/18/11 100/18/12 100/19/8 100/19/9 100/19/10 100/19/11 100/19/12 100/20/8 100/20/9 100/20/10 100/20/11 100/20/12 100/21/8 100/21/9 100/21/10 100/21/11 100/21/12 100/22/8 100/22/9 100/22/10 100/22/11 100/22/12 150/18/8 150/18/9 150/18/10 150/18/11 150/18/12 150/19/8 150/19/9 150/19/10 150/19/11 150/19/12 150/20/8 150/20/9 150/20/10 150/20/11 150/20/12 150/21/8 150/21/9 150/21/10 150/21/11 150/21/12 150/22/8 150/22/9 150/22/10 150/22/11 150/22/12 \n",
      "100\t18\t10\t572\n",
      "100\t19\t10\t572\n",
      "100\t20\t10\t572\n",
      "100\t21\t10\t572\n",
      "100\t22\t10\t572\n",
      "100\t18\t9\t573\n",
      "100\t19\t9\t573\n",
      "100\t20\t9\t573\n",
      "100\t21\t9\t573\n",
      "100\t22\t9\t573\n"
     ]
    }
   ],
   "source": [
    "def score_model(model, X_t=X_train, X_v=X_test, y_t=y_train, y_v=y_test):\n",
    "    model.fit(X_t, y_t)\n",
    "    preds = model.predict(X_v)\n",
    "    return mean_absolute_error(y_v, preds)\n",
    "\n",
    "results = []\n",
    "\n",
    "for i in range(50,151,50):\n",
    "    for j in range(18,23):\n",
    "        for k in range (8,13):\n",
    "            model = RandomForestRegressor(random_state=42, n_estimators=i, max_depth=j, min_samples_split=k, criterion='absolute_error')\n",
    "            mae = int(score_model(model))\n",
    "            result = {f'{i}\\t{j}\\t{k}':int(mae)}\n",
    "            print(f'{i}/{j}/{k}', end=' ')\n",
    "            results.append(result)\n",
    "\n",
    "print()\n",
    "print()\n",
    "\n",
    "sorted_results = sorted(results, key=lambda x: list(x.values())[0])\n",
    "for result in sorted_results[:10]:\n",
    "    model, number = list(result.items())[0]\n",
    "    print(f\"{model}\\t{number}\")"
   ]
  },
  {
   "cell_type": "markdown",
   "id": "5e5c0056-1a4e-430f-b03f-11daede6f617",
   "metadata": {},
   "source": [
    "### Random forest gridsearch"
   ]
  },
  {
   "cell_type": "code",
   "execution_count": 106,
   "id": "d751bc61-b509-45b6-8933-1e00e6ea48d2",
   "metadata": {},
   "outputs": [
    {
     "name": "stdout",
     "output_type": "stream",
     "text": [
      "Time taken for a single fit: 0.0540 seconds\n",
      "Total number of fits: 45600\n",
      "Approximate time for all fits: 41.07 minutes\n"
     ]
    }
   ],
   "source": [
    "n_estimators_range = list(range(50,201,50))\n",
    "max_depth_range = list(range(1,21))\n",
    "min_samples_split_range = list(range(2,21))\n",
    "param_grid = {\n",
    "    'n_estimators': n_estimators_range,\n",
    "    'max_depth': max_depth_range,\n",
    "    'min_samples_split': min_samples_split_range,\n",
    "    'criterion': ['squared_error', 'absolute_error']\n",
    "}\n",
    "\n",
    "params = { 'n_estimators': 50, 'max_depth': 18, 'min_samples_split': 10, 'criterion': 'squared_error' }\n",
    "model_rf = RandomForestRegressor(random_state=53, **params)\n",
    "start_time = time.time()\n",
    "model_rf.fit(X_train, y_train)\n",
    "end_time = time.time()\n",
    "single_fit_time = end_time - start_time\n",
    "print(f\"Time taken for a single fit: {single_fit_time:.4f} seconds\")\n",
    "\n",
    "cv = 5\n",
    "fits = len(n_estimators_range) * len(max_depth_range) * len(min_samples_split_range) * len(param_grid['criterion']) * cv * 3\n",
    "print(f\"Total number of fits: {fits}\")\n",
    "print(f\"Approximate time for all fits: {single_fit_time*fits/60:.2f} minutes\")"
   ]
  },
  {
   "cell_type": "code",
   "execution_count": 102,
   "id": "555c1e44-84d2-494f-9fd6-f9b5a4c9faf7",
   "metadata": {},
   "outputs": [
    {
     "name": "stderr",
     "output_type": "stream",
     "text": [
      "C:\\Users\\jgibb\\.pyenv\\pyenv-win\\versions\\3.12.5\\Lib\\site-packages\\numpy\\ma\\core.py:2881: RuntimeWarning: invalid value encountered in cast\n",
      "  _data = np.array(data, dtype=dtype, copy=copy,\n",
      "C:\\Users\\jgibb\\.pyenv\\pyenv-win\\versions\\3.12.5\\Lib\\site-packages\\numpy\\ma\\core.py:2881: RuntimeWarning: invalid value encountered in cast\n",
      "  _data = np.array(data, dtype=dtype, copy=copy,\n"
     ]
    },
    {
     "name": "stdout",
     "output_type": "stream",
     "text": [
      "Best Parameters (MAE): {'criterion': 'squared_error', 'max_depth': 11, 'min_samples_split': 14, 'n_estimators': 200}\n",
      "Best Score (MAE): 749.26\n",
      "Best Parameters (MSE): {'criterion': 'squared_error', 'max_depth': 7, 'min_samples_split': 13, 'n_estimators': 200}\n",
      "Best Score (MSE): 1018601.07\n",
      "Best Parameters (R2): {'criterion': 'squared_error', 'max_depth': 7, 'min_samples_split': 14, 'n_estimators': 200}\n",
      "Best Score (R2): 0.78\n"
     ]
    }
   ],
   "source": [
    "model_rf = RandomForestRegressor(random_state=53)\n",
    "\n",
    "grid_search_mae = GridSearchCV(estimator=model_rf, param_grid=param_grid, cv=cv, scoring='neg_mean_absolute_error', error_score='raise', n_jobs=-1)\n",
    "grid_search_mae.fit(X_train, y_train)\n",
    "print(f'grid_search_mae complete')\n",
    "print()\n",
    "\n",
    "grid_search_mse = GridSearchCV(estimator=model_rf, param_grid=param_grid, cv=cv, scoring='neg_mean_squared_error', error_score='raise', n_jobs=-1)\n",
    "grid_search_mse.fit(X_train, y_train)\n",
    "print(f'grid_search_mse complete')\n",
    "print()\n",
    "\n",
    "grid_search_r2 = GridSearchCV(estimator=model_rf, param_grid=param_grid, cv=cv, scoring='r2', error_score='raise', n_jobs=-1)\n",
    "grid_search_r2.fit(X_train, y_train)\n",
    "print(f'grid_search_r2 complete')\n",
    "Print()\n",
    "\n",
    "print(f\"Best Parameters (MAE): {grid_search_mae.best_params_}\")\n",
    "print(f\"Best Parameters (MSE): {grid_search_mse.best_params_}\")\n",
    "print(f\"Best Parameters (R2): {grid_search_r2.best_params_}\")\n",
    "print()\n",
    "print(f\"Best Score (MAE): {-grid_search_mae.best_score_:.2f}\")\n",
    "print(f\"Best Score (MSE): {-grid_search_mse.best_score_:.2f}\")\n",
    "print(f\"Best Score (R2): {grid_search_r2.best_score_:.2f}\")"
   ]
  },
  {
   "cell_type": "markdown",
   "id": "2d9c0e04-32b2-474a-95e0-0aa8f4980dbe",
   "metadata": {},
   "source": [
    "### Linear vs random Forest"
   ]
  },
  {
   "cell_type": "code",
   "execution_count": 109,
   "id": "23133627-1000-434b-a477-f170fb90d0b7",
   "metadata": {
    "editable": true,
    "slideshow": {
     "slide_type": ""
    },
    "tags": []
   },
   "outputs": [
    {
     "name": "stdout",
     "output_type": "stream",
     "text": [
      "Linear\t\tStd MAE: 587.25\n",
      "Random Forest\tStd MAE: 683.07\n",
      "\n",
      "Linear\t\tMean MAE: 1043.34\n",
      "Random Forest\tMean MAE: 1338.95\n",
      "\n",
      "Linear\t\tMSE: 589662.64\n",
      "Random Forest\tMSE: 621607.78\n",
      "\n",
      "Linear\t\tR²: 0.88\n",
      "Random Forest\tR²: 0.87\n",
      "\n",
      "Paired t-test - t-statistic: -4.62\n",
      "Paired t-test - p-value: 0.01\n"
     ]
    }
   ],
   "source": [
    "c=grid_search_mae.best_params_['criterion']\n",
    "md=grid_search_mae.best_params_['max_depth']\n",
    "mss=grid_search_mae.best_params_['min_samples_split']\n",
    "ne=grid_search_mae.best_params_['n_estimators']\n",
    "rs=53\n",
    "\n",
    "model_lr = LinearRegression()\n",
    "model_rf = RandomForestRegressor(criterion=c, max_depth=md, min_samples_split=mss, n_estimators=ne, random_state=rs)\n",
    "scoring = make_scorer(mean_absolute_error)\n",
    "cv_scores_lr = cross_val_score(model_lr, X, y, cv=5, scoring=scoring)\n",
    "mean_mae_lr = cv_scores_lr.mean()\n",
    "std_mae_lr = cv_scores_lr.std()\n",
    "cv_scores_rf = cross_val_score(model_rf, X, y, cv=5, scoring=scoring)\n",
    "mean_mae_rf = cv_scores_rf.mean()\n",
    "std_mae_rf = cv_scores_rf.std()\n",
    "\n",
    "model_lr.fit(X_train, y_train)\n",
    "model_rf.fit(X_train, y_train)\n",
    "y_pred_lr = model_lr.predict(X_test)\n",
    "y_pred_rf = model_rf.predict(X_test)\n",
    "mse_lr = mean_squared_error(y_test, y_pred_lr)\n",
    "r2_lr = r2_score(y_test, y_pred_lr)\n",
    "mse_rf = mean_squared_error(y_test, y_pred_rf)\n",
    "r2_rf = r2_score(y_test, y_pred_rf)\n",
    "\n",
    "print(f\"Linear\\t\\tStd MAE: {std_mae_lr:.2f}\")\n",
    "print(f\"Random Forest\\tStd MAE: {std_mae_rf:.2f}\")\n",
    "print()\n",
    "print(f\"Linear\\t\\tMean MAE: {mean_mae_lr:.2f}\")\n",
    "print(f\"Random Forest\\tMean MAE: {mean_mae_rf:.2f}\")\n",
    "print()\n",
    "print(f\"Linear\\t\\tMSE: {mse_lr:.2f}\")\n",
    "print(f\"Random Forest\\tMSE: {mse_rf:.2f}\")\n",
    "print()\n",
    "print(f\"Linear\\t\\tR²: {r2_lr:.2f}\")\n",
    "print(f\"Random Forest\\tR²: {r2_rf:.2f}\")\n",
    "print()\n",
    "\n",
    "t_stat, p_value = ttest_rel(cv_scores_lr, cv_scores_rf)\n",
    "\n",
    "print(f\"Paired t-test - t-statistic: {t_stat:.2f}\")\n",
    "print(f\"Paired t-test - p-value: {p_value:.2f}\")"
   ]
  },
  {
   "cell_type": "code",
   "execution_count": null,
   "id": "a74d3ae0-620b-4561-ba61-27f113e4ccfa",
   "metadata": {},
   "outputs": [],
   "source": []
  }
 ],
 "metadata": {
  "kernelspec": {
   "display_name": "Python 3 (ipykernel)",
   "language": "python",
   "name": "python3"
  },
  "language_info": {
   "codemirror_mode": {
    "name": "ipython",
    "version": 3
   },
   "file_extension": ".py",
   "mimetype": "text/x-python",
   "name": "python",
   "nbconvert_exporter": "python",
   "pygments_lexer": "ipython3",
   "version": "3.12.5"
  }
 },
 "nbformat": 4,
 "nbformat_minor": 5
}
