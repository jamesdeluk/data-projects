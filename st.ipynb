{
 "cells": [
  {
   "cell_type": "markdown",
   "id": "3f9309e2-790a-47cf-a5c0-e0a6e5c038a3",
   "metadata": {},
   "source": [
    "# Imports and data"
   ]
  },
  {
   "cell_type": "code",
   "execution_count": 312,
   "id": "9356d6d7-b388-4828-984f-977b21c2bddf",
   "metadata": {
    "editable": true,
    "slideshow": {
     "slide_type": ""
    },
    "tags": []
   },
   "outputs": [],
   "source": [
    "import time\n",
    "import numpy as np\n",
    "import pandas as pd\n",
    "\n",
    "import matplotlib.pyplot as plt\n",
    "import matplotlib.ticker as ticker\n",
    "import seaborn as sns\n",
    "sns.set()\n",
    "\n",
    "import statsmodels.api as sm\n",
    "from statsmodels.stats.outliers_influence import variance_inflation_factor\n",
    "\n",
    "from sklearn.model_selection import train_test_split, cross_val_score, GridSearchCV\n",
    "from sklearn.metrics import mean_absolute_error, mean_squared_error, make_scorer, r2_score\n",
    "from sklearn.linear_model import LinearRegression\n",
    "from sklearn.tree import DecisionTreeRegressor\n",
    "from sklearn.ensemble import RandomForestRegressor, GradientBoostingRegressor\n",
    "\n",
    "from xgboost import XGBRegressor\n",
    "\n",
    "from scipy.stats import ttest_rel"
   ]
  },
  {
   "cell_type": "code",
   "execution_count": 313,
   "id": "e78e56c3-d034-4e36-a661-c77a9b7d987f",
   "metadata": {
    "editable": true,
    "slideshow": {
     "slide_type": ""
    },
    "tags": []
   },
   "outputs": [
    {
     "data": {
      "text/html": [
       "<div>\n",
       "<style scoped>\n",
       "    .dataframe tbody tr th:only-of-type {\n",
       "        vertical-align: middle;\n",
       "    }\n",
       "\n",
       "    .dataframe tbody tr th {\n",
       "        vertical-align: top;\n",
       "    }\n",
       "\n",
       "    .dataframe thead th {\n",
       "        text-align: right;\n",
       "    }\n",
       "</style>\n",
       "<table border=\"1\" class=\"dataframe\">\n",
       "  <thead>\n",
       "    <tr style=\"text-align: right;\">\n",
       "      <th></th>\n",
       "      <th>Price</th>\n",
       "      <th>Year</th>\n",
       "      <th>Generation</th>\n",
       "      <th>Trim</th>\n",
       "      <th>Mileage</th>\n",
       "      <th>Distance</th>\n",
       "      <th>Private</th>\n",
       "    </tr>\n",
       "  </thead>\n",
       "  <tbody>\n",
       "    <tr>\n",
       "      <th>count</th>\n",
       "      <td>636.000000</td>\n",
       "      <td>636.000000</td>\n",
       "      <td>636.000000</td>\n",
       "      <td>636.000000</td>\n",
       "      <td>636.000000</td>\n",
       "      <td>636.000000</td>\n",
       "      <td>636.000000</td>\n",
       "    </tr>\n",
       "    <tr>\n",
       "      <th>mean</th>\n",
       "      <td>11910.713836</td>\n",
       "      <td>2016.224843</td>\n",
       "      <td>7.463836</td>\n",
       "      <td>0.573899</td>\n",
       "      <td>47621.325472</td>\n",
       "      <td>175.158805</td>\n",
       "      <td>0.218553</td>\n",
       "    </tr>\n",
       "    <tr>\n",
       "      <th>std</th>\n",
       "      <td>5387.317497</td>\n",
       "      <td>36.520404</td>\n",
       "      <td>0.499083</td>\n",
       "      <td>0.494898</td>\n",
       "      <td>27856.124664</td>\n",
       "      <td>72.129640</td>\n",
       "      <td>0.413590</td>\n",
       "    </tr>\n",
       "    <tr>\n",
       "      <th>min</th>\n",
       "      <td>3030.000000</td>\n",
       "      <td>1100.000000</td>\n",
       "      <td>7.000000</td>\n",
       "      <td>0.000000</td>\n",
       "      <td>9.000000</td>\n",
       "      <td>1.000000</td>\n",
       "      <td>0.000000</td>\n",
       "    </tr>\n",
       "    <tr>\n",
       "      <th>25%</th>\n",
       "      <td>7488.750000</td>\n",
       "      <td>2015.000000</td>\n",
       "      <td>7.000000</td>\n",
       "      <td>0.000000</td>\n",
       "      <td>23508.500000</td>\n",
       "      <td>134.750000</td>\n",
       "      <td>0.000000</td>\n",
       "    </tr>\n",
       "    <tr>\n",
       "      <th>50%</th>\n",
       "      <td>10000.000000</td>\n",
       "      <td>2017.000000</td>\n",
       "      <td>7.000000</td>\n",
       "      <td>1.000000</td>\n",
       "      <td>47000.000000</td>\n",
       "      <td>174.000000</td>\n",
       "      <td>0.000000</td>\n",
       "    </tr>\n",
       "    <tr>\n",
       "      <th>75%</th>\n",
       "      <td>15991.250000</td>\n",
       "      <td>2020.000000</td>\n",
       "      <td>8.000000</td>\n",
       "      <td>1.000000</td>\n",
       "      <td>67651.000000</td>\n",
       "      <td>208.000000</td>\n",
       "      <td>0.000000</td>\n",
       "    </tr>\n",
       "    <tr>\n",
       "      <th>max</th>\n",
       "      <td>26950.000000</td>\n",
       "      <td>2025.000000</td>\n",
       "      <td>8.000000</td>\n",
       "      <td>1.000000</td>\n",
       "      <td>164530.000000</td>\n",
       "      <td>462.000000</td>\n",
       "      <td>1.000000</td>\n",
       "    </tr>\n",
       "  </tbody>\n",
       "</table>\n",
       "</div>"
      ],
      "text/plain": [
       "              Price         Year  Generation        Trim        Mileage  \\\n",
       "count    636.000000   636.000000  636.000000  636.000000     636.000000   \n",
       "mean   11910.713836  2016.224843    7.463836    0.573899   47621.325472   \n",
       "std     5387.317497    36.520404    0.499083    0.494898   27856.124664   \n",
       "min     3030.000000  1100.000000    7.000000    0.000000       9.000000   \n",
       "25%     7488.750000  2015.000000    7.000000    0.000000   23508.500000   \n",
       "50%    10000.000000  2017.000000    7.000000    1.000000   47000.000000   \n",
       "75%    15991.250000  2020.000000    8.000000    1.000000   67651.000000   \n",
       "max    26950.000000  2025.000000    8.000000    1.000000  164530.000000   \n",
       "\n",
       "         Distance     Private  \n",
       "count  636.000000  636.000000  \n",
       "mean   175.158805    0.218553  \n",
       "std     72.129640    0.413590  \n",
       "min      1.000000    0.000000  \n",
       "25%    134.750000    0.000000  \n",
       "50%    174.000000    0.000000  \n",
       "75%    208.000000    0.000000  \n",
       "max    462.000000    1.000000  "
      ]
     },
     "execution_count": 313,
     "metadata": {},
     "output_type": "execute_result"
    }
   ],
   "source": [
    "# Note: Data is asking prices on Auto Trader; these are not necessarily the price they sell for\n",
    "data = pd.read_csv('data/car_data.csv')\n",
    "data.sort_values(by='Price', inplace=True)\n",
    "data.reset_index(drop=True, inplace=True)\n",
    "data['Trim'] = data['Trim'].map({'ST-3':1, 'ST-2':0})\n",
    "data.describe(include='all')\n",
    "# data.head()"
   ]
  },
  {
   "cell_type": "code",
   "execution_count": 314,
   "id": "e2cce22a-8351-4e35-8636-d0bb42a115cf",
   "metadata": {},
   "outputs": [],
   "source": [
    "private_gen7_st2_data = data[(data['Private'] == 1) & (data['Generation'] == 7) & (data['Trim'] == 0)]\n",
    "trade_gen7_st2_data = data[(data['Private'] == 0) & (data['Generation'] == 7) & (data['Trim'] == 0)]\n",
    "private_gen7_st3_data = data[(data['Private'] == 1) & (data['Generation'] == 7) & (data['Trim'] == 1)]\n",
    "trade_gen7_st3_data = data[(data['Private'] == 0) & (data['Generation'] == 7) & (data['Trim'] == 1)]\n",
    "private_gen8_st2_data = data[(data['Private'] == 1) & (data['Generation'] == 8) & (data['Trim'] == 0)]\n",
    "trade_gen8_st2_data = data[(data['Private'] == 0) & (data['Generation'] == 8) & (data['Trim'] == 0)]\n",
    "private_gen8_st3_data = data[(data['Private'] == 1) & (data['Generation'] == 8) & (data['Trim'] == 1)]\n",
    "trade_gen8_st3_data = data[(data['Private'] == 0) & (data['Generation'] == 8) & (data['Trim'] == 1)]"
   ]
  },
  {
   "cell_type": "markdown",
   "id": "208608da-033f-41a9-820c-596e8509ea4a",
   "metadata": {},
   "source": [
    "# Graphs"
   ]
  },
  {
   "cell_type": "code",
   "execution_count": 315,
   "id": "5cbd0389-7c28-4dd2-b6e9-9f8c61a33ee7",
   "metadata": {},
   "outputs": [
    {
     "data": {
      "image/png": "[encoded data removed]",
      "text/plain": [
       "<Figure size 640x480 with 1 Axes>"
      ]
     },
     "metadata": {},
     "output_type": "display_data"
    }
   ],
   "source": [
    "x_col = 'Mileage'\n",
    "\n",
    "y_private_gen7_st2 = private_gen7_st2_data['Price']\n",
    "y_trade_gen7_st2 = trade_gen7_st2_data['Price']\n",
    "x_private_gen7_st2 = private_gen7_st2_data[x_col]\n",
    "x_trade_gen7_st2 = trade_gen7_st2_data[x_col]\n",
    "\n",
    "y_private_gen7_st3 = private_gen7_st3_data['Price']\n",
    "y_trade_gen7_st3 = trade_gen7_st3_data['Price']\n",
    "x_private_gen7_st3 = private_gen7_st3_data[x_col]\n",
    "x_trade_gen7_st3 = trade_gen7_st3_data[x_col]\n",
    "\n",
    "y_private_gen8_st2 = private_gen8_st2_data['Price']\n",
    "y_trade_gen8_st2 = trade_gen8_st2_data['Price']\n",
    "x_private_gen8_st2 = private_gen8_st2_data[x_col]\n",
    "x_trade_gen8_st2 = trade_gen8_st2_data[x_col]\n",
    "\n",
    "y_private_gen8_st3 = private_gen8_st3_data['Price']\n",
    "y_trade_gen8_st3 = trade_gen8_st3_data['Price']\n",
    "x_private_gen8_st3 = private_gen8_st3_data[x_col]\n",
    "x_trade_gen8_st3 = trade_gen8_st3_data[x_col]\n",
    "\n",
    "plt.plot(x_private_gen7_st2, y_private_gen7_st2, label='7th Gen ST-2, Private')\n",
    "plt.plot(x_trade_gen7_st2, y_trade_gen7_st2, label='7th Gen ST-2, Trade')\n",
    "\n",
    "plt.plot(x_private_gen7_st3, y_private_gen7_st3, label='7th Gen ST-3, Private')\n",
    "plt.plot(x_trade_gen7_st3, y_trade_gen7_st3, label='7th Gen ST-3, Trade')\n",
    "\n",
    "plt.plot(x_private_gen8_st2, y_private_gen8_st2, label='8th Gen ST-2, Private')\n",
    "plt.plot(x_trade_gen8_st2, y_trade_gen8_st2, label='8th Gen ST-2, Trade')\n",
    "\n",
    "plt.plot(x_private_gen8_st3, y_private_gen8_st3, label='8th Gen ST-3, Private')\n",
    "plt.plot(x_trade_gen8_st3, y_trade_gen8_st3, label='8th Gen ST-3, Trade')\n",
    "\n",
    "plt.axvline(38000, color='black', linestyle='--', label='Mine')\n",
    "\n",
    "plt.legend()\n",
    "plt.title('Price vs Mileage by Generation and Seller')\n",
    "ax = plt.gca()\n",
    "\n",
    "plt.ylabel('Price')\n",
    "plt.ylim(0,25000)\n",
    "def currency_formatter(y, pos):\n",
    "    return '£{:,.0f}'.format(y)\n",
    "ax.yaxis.set_major_formatter(ticker.FuncFormatter(currency_formatter))\n",
    "\n",
    "plt.xlabel('Mileage')\n",
    "plt.xlim(0,170000)\n",
    "def thousands_formatter(x, pos):\n",
    "    return '{:.0f}k'.format(x / 1000)\n",
    "ax.xaxis.set_major_formatter(ticker.FuncFormatter(thousands_formatter))\n",
    "\n",
    "plt.show()"
   ]
  },
  {
   "cell_type": "markdown",
   "id": "8d7452e7-5983-435a-9f38-52c5c0ac9e1f",
   "metadata": {},
   "source": [
    "# statsmodels"
   ]
  },
  {
   "cell_type": "code",
   "execution_count": 316,
   "id": "764adbc6-3f2b-4c69-b3f3-51553130beea",
   "metadata": {},
   "outputs": [
    {
     "data": {
      "text/html": [
       "<table class=\"simpletable\">\n",
       "<caption>OLS Regression Results</caption>\n",
       "<tr>\n",
       "  <th>Dep. Variable:</th>          <td>Price</td>      <th>  R-squared:         </th> <td>   0.923</td> \n",
       "</tr>\n",
       "<tr>\n",
       "  <th>Model:</th>                   <td>OLS</td>       <th>  Adj. R-squared:    </th> <td>   0.922</td> \n",
       "</tr>\n",
       "<tr>\n",
       "  <th>Method:</th>             <td>Least Squares</td>  <th>  F-statistic:       </th> <td>   1253.</td> \n",
       "</tr>\n",
       "<tr>\n",
       "  <th>Date:</th>             <td>Wed, 11 Sep 2024</td> <th>  Prob (F-statistic):</th>  <td>  0.00</td>  \n",
       "</tr>\n",
       "<tr>\n",
       "  <th>Time:</th>                 <td>16:18:43</td>     <th>  Log-Likelihood:    </th> <td> -5551.9</td> \n",
       "</tr>\n",
       "<tr>\n",
       "  <th>No. Observations:</th>      <td>   636</td>      <th>  AIC:               </th> <td>1.112e+04</td>\n",
       "</tr>\n",
       "<tr>\n",
       "  <th>Df Residuals:</th>          <td>   629</td>      <th>  BIC:               </th> <td>1.115e+04</td>\n",
       "</tr>\n",
       "<tr>\n",
       "  <th>Df Model:</th>              <td>     6</td>      <th>                     </th>     <td> </td>    \n",
       "</tr>\n",
       "<tr>\n",
       "  <th>Covariance Type:</th>      <td>nonrobust</td>    <th>                     </th>     <td> </td>    \n",
       "</tr>\n",
       "</table>\n",
       "<table class=\"simpletable\">\n",
       "<tr>\n",
       "       <td></td>         <th>coef</th>     <th>std err</th>      <th>t</th>      <th>P>|t|</th>  <th>[0.025</th>    <th>0.975]</th>  \n",
       "</tr>\n",
       "<tr>\n",
       "  <th>const</th>      <td>-2.631e+04</td> <td> 3592.753</td> <td>   -7.322</td> <td> 0.000</td> <td>-3.34e+04</td> <td>-1.93e+04</td>\n",
       "</tr>\n",
       "<tr>\n",
       "  <th>Year</th>       <td>    2.4479</td> <td>    1.646</td> <td>    1.487</td> <td> 0.138</td> <td>   -0.785</td> <td>    5.681</td>\n",
       "</tr>\n",
       "<tr>\n",
       "  <th>Generation</th> <td> 4968.1256</td> <td>  165.630</td> <td>   29.995</td> <td> 0.000</td> <td> 4642.872</td> <td> 5293.379</td>\n",
       "</tr>\n",
       "<tr>\n",
       "  <th>Trim</th>       <td> 1636.6325</td> <td>  126.583</td> <td>   12.929</td> <td> 0.000</td> <td> 1388.057</td> <td> 1885.208</td>\n",
       "</tr>\n",
       "<tr>\n",
       "  <th>Mileage</th>    <td>   -0.0979</td> <td>    0.003</td> <td>  -32.191</td> <td> 0.000</td> <td>   -0.104</td> <td>   -0.092</td>\n",
       "</tr>\n",
       "<tr>\n",
       "  <th>Distance</th>   <td>    0.4272</td> <td>    0.832</td> <td>    0.513</td> <td> 0.608</td> <td>   -1.207</td> <td>    2.062</td>\n",
       "</tr>\n",
       "<tr>\n",
       "  <th>Private</th>    <td> -696.1447</td> <td>  151.540</td> <td>   -4.594</td> <td> 0.000</td> <td> -993.730</td> <td> -398.560</td>\n",
       "</tr>\n",
       "</table>\n",
       "<table class=\"simpletable\">\n",
       "<tr>\n",
       "  <th>Omnibus:</th>       <td>39.385</td> <th>  Durbin-Watson:     </th> <td>   0.771</td>\n",
       "</tr>\n",
       "<tr>\n",
       "  <th>Prob(Omnibus):</th> <td> 0.000</td> <th>  Jarque-Bera (JB):  </th> <td>  46.233</td>\n",
       "</tr>\n",
       "<tr>\n",
       "  <th>Skew:</th>          <td> 0.592</td> <th>  Prob(JB):          </th> <td>9.13e-11</td>\n",
       "</tr>\n",
       "<tr>\n",
       "  <th>Kurtosis:</th>      <td> 3.587</td> <th>  Cond. No.          </th> <td>3.32e+06</td>\n",
       "</tr>\n",
       "</table><br/><br/>Notes:<br/>[1] Standard Errors assume that the covariance matrix of the errors is correctly specified.<br/>[2] The condition number is large, 3.32e+06. This might indicate that there are<br/>strong multicollinearity or other numerical problems."
      ],
      "text/latex": [
       "\\begin{center}\n",
       "\\begin{tabular}{lclc}\n",
       "\\toprule\n",
       "\\textbf{Dep. Variable:}    &      Price       & \\textbf{  R-squared:         } &     0.923   \\\\\n",
       "\\textbf{Model:}            &       OLS        & \\textbf{  Adj. R-squared:    } &     0.922   \\\\\n",
       "\\textbf{Method:}           &  Least Squares   & \\textbf{  F-statistic:       } &     1253.   \\\\\n",
       "\\textbf{Date:}             & Wed, 11 Sep 2024 & \\textbf{  Prob (F-statistic):} &     0.00    \\\\\n",
       "\\textbf{Time:}             &     16:18:43     & \\textbf{  Log-Likelihood:    } &   -5551.9   \\\\\n",
       "\\textbf{No. Observations:} &         636      & \\textbf{  AIC:               } & 1.112e+04   \\\\\n",
       "\\textbf{Df Residuals:}     &         629      & \\textbf{  BIC:               } & 1.115e+04   \\\\\n",
       "\\textbf{Df Model:}         &           6      & \\textbf{                     } &             \\\\\n",
       "\\textbf{Covariance Type:}  &    nonrobust     & \\textbf{                     } &             \\\\\n",
       "\\bottomrule\n",
       "\\end{tabular}\n",
       "\\begin{tabular}{lcccccc}\n",
       "                    & \\textbf{coef} & \\textbf{std err} & \\textbf{t} & \\textbf{P$> |$t$|$} & \\textbf{[0.025} & \\textbf{0.975]}  \\\\\n",
       "\\midrule\n",
       "\\textbf{const}      &   -2.631e+04  &     3592.753     &    -7.322  &         0.000        &    -3.34e+04    &    -1.93e+04     \\\\\n",
       "\\textbf{Year}       &       2.4479  &        1.646     &     1.487  &         0.138        &       -0.785    &        5.681     \\\\\n",
       "\\textbf{Generation} &    4968.1256  &      165.630     &    29.995  &         0.000        &     4642.872    &     5293.379     \\\\\n",
       "\\textbf{Trim}       &    1636.6325  &      126.583     &    12.929  &         0.000        &     1388.057    &     1885.208     \\\\\n",
       "\\textbf{Mileage}    &      -0.0979  &        0.003     &   -32.191  &         0.000        &       -0.104    &       -0.092     \\\\\n",
       "\\textbf{Distance}   &       0.4272  &        0.832     &     0.513  &         0.608        &       -1.207    &        2.062     \\\\\n",
       "\\textbf{Private}    &    -696.1447  &      151.540     &    -4.594  &         0.000        &     -993.730    &     -398.560     \\\\\n",
       "\\bottomrule\n",
       "\\end{tabular}\n",
       "\\begin{tabular}{lclc}\n",
       "\\textbf{Omnibus:}       & 39.385 & \\textbf{  Durbin-Watson:     } &    0.771  \\\\\n",
       "\\textbf{Prob(Omnibus):} &  0.000 & \\textbf{  Jarque-Bera (JB):  } &   46.233  \\\\\n",
       "\\textbf{Skew:}          &  0.592 & \\textbf{  Prob(JB):          } & 9.13e-11  \\\\\n",
       "\\textbf{Kurtosis:}      &  3.587 & \\textbf{  Cond. No.          } & 3.32e+06  \\\\\n",
       "\\bottomrule\n",
       "\\end{tabular}\n",
       "%\\caption{OLS Regression Results}\n",
       "\\end{center}\n",
       "\n",
       "Notes: \\newline\n",
       " [1] Standard Errors assume that the covariance matrix of the errors is correctly specified. \\newline\n",
       " [2] The condition number is large, 3.32e+06. This might indicate that there are \\newline\n",
       " strong multicollinearity or other numerical problems."
      ],
      "text/plain": [
       "<class 'statsmodels.iolib.summary.Summary'>\n",
       "\"\"\"\n",
       "                            OLS Regression Results                            \n",
       "==============================================================================\n",
       "Dep. Variable:                  Price   R-squared:                       0.923\n",
       "Model:                            OLS   Adj. R-squared:                  0.922\n",
       "Method:                 Least Squares   F-statistic:                     1253.\n",
       "Date:                Wed, 11 Sep 2024   Prob (F-statistic):               0.00\n",
       "Time:                        16:18:43   Log-Likelihood:                -5551.9\n",
       "No. Observations:                 636   AIC:                         1.112e+04\n",
       "Df Residuals:                     629   BIC:                         1.115e+04\n",
       "Df Model:                           6                                         \n",
       "Covariance Type:            nonrobust                                         \n",
       "==============================================================================\n",
       "                 coef    std err          t      P>|t|      [0.025      0.975]\n",
       "------------------------------------------------------------------------------\n",
       "const      -2.631e+04   3592.753     -7.322      0.000   -3.34e+04   -1.93e+04\n",
       "Year           2.4479      1.646      1.487      0.138      -0.785       5.681\n",
       "Generation  4968.1256    165.630     29.995      0.000    4642.872    5293.379\n",
       "Trim        1636.6325    126.583     12.929      0.000    1388.057    1885.208\n",
       "Mileage       -0.0979      0.003    -32.191      0.000      -0.104      -0.092\n",
       "Distance       0.4272      0.832      0.513      0.608      -1.207       2.062\n",
       "Private     -696.1447    151.540     -4.594      0.000    -993.730    -398.560\n",
       "==============================================================================\n",
       "Omnibus:                       39.385   Durbin-Watson:                   0.771\n",
       "Prob(Omnibus):                  0.000   Jarque-Bera (JB):               46.233\n",
       "Skew:                           0.592   Prob(JB):                     9.13e-11\n",
       "Kurtosis:                       3.587   Cond. No.                     3.32e+06\n",
       "==============================================================================\n",
       "\n",
       "Notes:\n",
       "[1] Standard Errors assume that the covariance matrix of the errors is correctly specified.\n",
       "[2] The condition number is large, 3.32e+06. This might indicate that there are\n",
       "strong multicollinearity or other numerical problems.\n",
       "\"\"\""
      ]
     },
     "execution_count": 316,
     "metadata": {},
     "output_type": "execute_result"
    }
   ],
   "source": [
    "y = data['Price']\n",
    "x1 = data[['Year','Generation','Trim','Mileage','Distance','Private']]\n",
    "x = sm.add_constant(x1)\n",
    "model_ols = sm.OLS(y,x).fit()\n",
    "model_ols.summary()"
   ]
  },
  {
   "cell_type": "code",
   "execution_count": 317,
   "id": "e0b1321d-2469-47f7-b9a6-222af2d43ed2",
   "metadata": {
    "editable": true,
    "slideshow": {
     "slide_type": ""
    },
    "tags": []
   },
   "outputs": [
    {
     "data": {
      "text/html": [
       "<div>\n",
       "<style scoped>\n",
       "    .dataframe tbody tr th:only-of-type {\n",
       "        vertical-align: middle;\n",
       "    }\n",
       "\n",
       "    .dataframe tbody tr th {\n",
       "        vertical-align: top;\n",
       "    }\n",
       "\n",
       "    .dataframe thead th {\n",
       "        text-align: right;\n",
       "    }\n",
       "</style>\n",
       "<table border=\"1\" class=\"dataframe\">\n",
       "  <thead>\n",
       "    <tr style=\"text-align: right;\">\n",
       "      <th></th>\n",
       "      <th>VIF</th>\n",
       "      <th>features</th>\n",
       "    </tr>\n",
       "  </thead>\n",
       "  <tbody>\n",
       "    <tr>\n",
       "      <th>0</th>\n",
       "      <td>433.941842</td>\n",
       "      <td>Year</td>\n",
       "    </tr>\n",
       "    <tr>\n",
       "      <th>1</th>\n",
       "      <td>369.314172</td>\n",
       "      <td>Generation</td>\n",
       "    </tr>\n",
       "    <tr>\n",
       "      <th>2</th>\n",
       "      <td>2.583960</td>\n",
       "      <td>Trim</td>\n",
       "    </tr>\n",
       "    <tr>\n",
       "      <th>3</th>\n",
       "      <td>7.241034</td>\n",
       "      <td>Mileage</td>\n",
       "    </tr>\n",
       "    <tr>\n",
       "      <th>4</th>\n",
       "      <td>6.984038</td>\n",
       "      <td>Distance</td>\n",
       "    </tr>\n",
       "    <tr>\n",
       "      <th>5</th>\n",
       "      <td>1.394664</td>\n",
       "      <td>Private</td>\n",
       "    </tr>\n",
       "  </tbody>\n",
       "</table>\n",
       "</div>"
      ],
      "text/plain": [
       "          VIF    features\n",
       "0  433.941842        Year\n",
       "1  369.314172  Generation\n",
       "2    2.583960        Trim\n",
       "3    7.241034     Mileage\n",
       "4    6.984038    Distance\n",
       "5    1.394664     Private"
      ]
     },
     "execution_count": 317,
     "metadata": {},
     "output_type": "execute_result"
    }
   ],
   "source": [
    "variables = data[['Year','Generation','Trim','Mileage','Distance','Private']]\n",
    "vif = pd.DataFrame()\n",
    "vif[\"VIF\"] = [variance_inflation_factor(variables.values, i) for i in range(variables.shape[1])]\n",
    "vif[\"features\"] = variables.columns\n",
    "vif"
   ]
  },
  {
   "cell_type": "markdown",
   "id": "b2ff4adf-cf21-4d9d-abf1-69c741df5b3f",
   "metadata": {},
   "source": [
    "# sklearn"
   ]
  },
  {
   "cell_type": "code",
   "execution_count": 318,
   "id": "d3f0663b-4a6d-47c1-b8ce-51481885db97",
   "metadata": {
    "editable": true,
    "scrolled": true,
    "slideshow": {
     "slide_type": ""
    },
    "tags": []
   },
   "outputs": [],
   "source": [
    "# X = data[(data['Generation'] == 7) & (data['Trim'] == 1)].copy()\n",
    "# X = X.drop(['Price', 'Generation', 'Trim'], axis=1)\n",
    "# y = data[(data['Generation'] == 7) & (data['Trim'] == 1)].copy()\n",
    "# y = y['Price']\n",
    "\n",
    "X = data.drop(['Price'], axis=1).copy()\n",
    "y = data['Price'].copy()\n",
    "\n",
    "mine = pd.DataFrame({\n",
    "    'Year': [2017],\n",
    "    'Generation': [7],\n",
    "    'Trim': [1],\n",
    "    'Mileage': [38000],\n",
    "    'Distance': [1],\n",
    "    'Private': [1]\n",
    "})"
   ]
  },
  {
   "cell_type": "markdown",
   "id": "56c11588-e465-4826-9015-94d854a029a6",
   "metadata": {},
   "source": [
    "## No split"
   ]
  },
  {
   "cell_type": "code",
   "execution_count": 319,
   "id": "6ed24e8f-c95d-4ccd-8273-a0343899cd57",
   "metadata": {
    "editable": true,
    "slideshow": {
     "slide_type": ""
    },
    "tags": []
   },
   "outputs": [
    {
     "name": "stdout",
     "output_type": "stream",
     "text": [
      "Linear:         £10628\n",
      "Decision Tree:  £9999\n",
      "Random Forest:  £9998\n",
      "Gradient Boost: £10027\n",
      "XGB Boost:      £10013\n",
      "Mean:           £10133\n",
      "\n"
     ]
    },
    {
     "data": {
      "text/html": [
       "<div>\n",
       "<style scoped>\n",
       "    .dataframe tbody tr th:only-of-type {\n",
       "        vertical-align: middle;\n",
       "    }\n",
       "\n",
       "    .dataframe tbody tr th {\n",
       "        vertical-align: top;\n",
       "    }\n",
       "\n",
       "    .dataframe thead th {\n",
       "        text-align: right;\n",
       "    }\n",
       "</style>\n",
       "<table border=\"1\" class=\"dataframe\">\n",
       "  <thead>\n",
       "    <tr style=\"text-align: right;\">\n",
       "      <th></th>\n",
       "      <th>Features</th>\n",
       "      <th>Weights</th>\n",
       "    </tr>\n",
       "  </thead>\n",
       "  <tbody>\n",
       "    <tr>\n",
       "      <th>0</th>\n",
       "      <td>Year</td>\n",
       "      <td>2.447860</td>\n",
       "    </tr>\n",
       "    <tr>\n",
       "      <th>1</th>\n",
       "      <td>Generation</td>\n",
       "      <td>4968.125551</td>\n",
       "    </tr>\n",
       "    <tr>\n",
       "      <th>2</th>\n",
       "      <td>Trim</td>\n",
       "      <td>1636.632518</td>\n",
       "    </tr>\n",
       "    <tr>\n",
       "      <th>3</th>\n",
       "      <td>Mileage</td>\n",
       "      <td>-0.097870</td>\n",
       "    </tr>\n",
       "    <tr>\n",
       "      <th>4</th>\n",
       "      <td>Distance</td>\n",
       "      <td>0.427192</td>\n",
       "    </tr>\n",
       "    <tr>\n",
       "      <th>5</th>\n",
       "      <td>Private</td>\n",
       "      <td>-696.144728</td>\n",
       "    </tr>\n",
       "  </tbody>\n",
       "</table>\n",
       "</div>"
      ],
      "text/plain": [
       "     Features      Weights\n",
       "0        Year     2.447860\n",
       "1  Generation  4968.125551\n",
       "2        Trim  1636.632518\n",
       "3     Mileage    -0.097870\n",
       "4    Distance     0.427192\n",
       "5     Private  -696.144728"
      ]
     },
     "execution_count": 319,
     "metadata": {},
     "output_type": "execute_result"
    }
   ],
   "source": [
    "model_lr = LinearRegression()\n",
    "model_lr.fit(X,y)\n",
    "p_lr = model_lr.predict(mine).astype(int)\n",
    "model_lr_summary = pd.DataFrame(X.columns.values, columns=['Features'])\n",
    "model_lr_summary['Weights'] = model_lr.coef_\n",
    "\n",
    "model_dtr = DecisionTreeRegressor()\n",
    "model_dtr.fit(X,y)\n",
    "p_dtr = model_dtr.predict(mine).astype(int)\n",
    "\n",
    "model_rfr = RandomForestRegressor()\n",
    "model_rfr.fit(X,y)\n",
    "p_rfr = model_rfr.predict(mine).astype(int)\n",
    "\n",
    "model_gbr = GradientBoostingRegressor(random_state=42)\n",
    "model_gbr.fit(X,y)\n",
    "p_gbr = model_gbr.predict(mine).astype(int)\n",
    "\n",
    "model_xgb = XGBRegressor(random_state=42)\n",
    "model_xgb.fit(X,y)\n",
    "p_xgb = model_xgb.predict(mine).astype(int)\n",
    "\n",
    "print(f'Linear:         £{p_lr[0]}')\n",
    "print(f'Decision Tree:  £{p_dtr[0]}')\n",
    "print(f'Random Forest:  £{p_rfr[0]}')\n",
    "print(f'Gradient Boost: £{p_gbr[0]}')\n",
    "print(f'XGB Boost:      £{p_xgb[0]}')\n",
    "print(f'Mean:           £{int(np.mean([p_lr,p_dtr,p_rfr,p_gbr,p_xgb]))}')\n",
    "print()\n",
    "model_lr_summary"
   ]
  },
  {
   "cell_type": "markdown",
   "id": "712e756a-3277-412f-8ced-6193cba1cd0e",
   "metadata": {},
   "source": [
    "## Split"
   ]
  },
  {
   "cell_type": "code",
   "execution_count": 320,
   "id": "cf1f4dce-6620-40b3-a623-02ad30d3aee0",
   "metadata": {
    "editable": true,
    "slideshow": {
     "slide_type": ""
    },
    "tags": []
   },
   "outputs": [
    {
     "name": "stdout",
     "output_type": "stream",
     "text": [
      "Gradient Boosting:\t[ 8763 21669  6361 13065  7171]\t\tMAE: 500\tPrediction: £9587\n",
      "Random Forest:\t\t[ 8580 21501  6635 13143  6745]\t\tMAE: 637\tPrediction: £9728\n",
      "XGB Boost:\t\t[ 8754 21424  6410 12699  6950]\t\tMAE: 646\tPrediction: £10100\n",
      "Decision Tree:\t\t[ 8790 21482  6495 12995  6495]\t\tMAE: 918\tPrediction: £10800\n",
      "Linear:\t\t\t[ 8951 19171  5309 14152  6883]\t\tMAE: 1120\tPrediction: £10574\n"
     ]
    }
   ],
   "source": [
    "X_train, X_test, y_train, y_test = train_test_split(X, y, test_size=0.2, random_state=42)\n",
    "\n",
    "model_lr = LinearRegression()\n",
    "model_lr.fit(X_train,y_train)\n",
    "p_lr = model_lr.predict(X_test).astype(int)\n",
    "\n",
    "model_dtr = DecisionTreeRegressor(random_state=42)\n",
    "model_dtr.fit(X_train,y_train)\n",
    "p_dtr = model_dtr.predict(X_test).astype(int)\n",
    "\n",
    "model_rfr = RandomForestRegressor(random_state=42, n_estimators=100, criterion='absolute_error', max_depth=10, min_samples_split=5)\n",
    "model_rfr.fit(X_train,y_train)\n",
    "p_rfr = model_rfr.predict(X_test).astype(int)\n",
    "\n",
    "model_gbr = GradientBoostingRegressor(random_state=42)\n",
    "model_gbr.fit(X_train,y_train)\n",
    "p_gbr = model_gbr.predict(X_test).astype(int)\n",
    "\n",
    "model_xgb = XGBRegressor(random_state=42)\n",
    "model_xgb.fit(X_train,y_train)\n",
    "p_xgb = model_xgb.predict(X_test).astype(int)\n",
    "\n",
    "mae_lr = mean_absolute_error(y_test, p_lr)\n",
    "mae_dtr = mean_absolute_error(y_test, p_dtr)\n",
    "mae_rfr = mean_absolute_error(y_test, p_rfr)\n",
    "mae_gbr = mean_absolute_error(y_test, p_gbr)\n",
    "mae_xgb = mean_absolute_error(y_test, p_xgb)\n",
    "\n",
    "print(f'Gradient Boosting:\\t{p_gbr[:5]}\\t\\tMAE: {int(mae_gbr)}\\tPrediction: £{int(model_gbr.predict(mine)[0])}')\n",
    "print(f'Random Forest:\\t\\t{p_rfr[:5]}\\t\\tMAE: {int(mae_rfr)}\\tPrediction: £{int(model_rfr.predict(mine)[0])}')\n",
    "print(f'XGB Boost:\\t\\t{p_xgb[:5]}\\t\\tMAE: {int(mae_xgb)}\\tPrediction: £{int(model_xgb.predict(mine)[0])}')\n",
    "print(f'Decision Tree:\\t\\t{p_dtr[:5]}\\t\\tMAE: {int(mae_dtr)}\\tPrediction: £{int(model_dtr.predict(mine)[0])}')\n",
    "print(f'Linear:\\t\\t\\t{p_lr[:5]}\\t\\tMAE: {int(mae_lr)}\\tPrediction: £{int(model_lr.predict(mine)[0])}')"
   ]
  },
  {
   "cell_type": "markdown",
   "id": "f4847747-68d2-4ad4-9905-c77cad4bc0d8",
   "metadata": {},
   "source": [
    "## Tuning and experimenting"
   ]
  },
  {
   "cell_type": "markdown",
   "id": "6e5a9ae5-3562-4730-bbc3-04679163f949",
   "metadata": {},
   "source": [
    "### Cross validation"
   ]
  },
  {
   "cell_type": "code",
   "execution_count": 321,
   "id": "3cbda161-6113-45a5-9487-4c2c1f2761a5",
   "metadata": {
    "editable": true,
    "slideshow": {
     "slide_type": ""
    },
    "tags": []
   },
   "outputs": [
    {
     "name": "stdout",
     "output_type": "stream",
     "text": [
      "Gradient Boost\tCV MAE: 665.25\n",
      "XGB Boost\tCV MAE: 747.46\n",
      "Random Forest\tCV MAE: 705.50\n",
      "Decision Tree\tCV MAE: 903.75\n",
      "Linear\t\tCV MAE: 2286.99\n"
     ]
    }
   ],
   "source": [
    "cv = 10\n",
    "\n",
    "model_gbr = GradientBoostingRegressor(random_state=42)\n",
    "scores = cross_val_score(model_gbr, X_train, y_train, cv=cv, scoring='neg_mean_absolute_error')\n",
    "print(f\"Gradient Boost\\tCV MAE: {-scores.mean():.2f}\")\n",
    "\n",
    "model_xgb = XGBRegressor(random_state=42)\n",
    "scores = cross_val_score(model_xgb, X_train, y_train, cv=cv, scoring='neg_mean_absolute_error')\n",
    "print(f\"XGB Boost\\tCV MAE: {-scores.mean():.2f}\")\n",
    "\n",
    "model_rfr = RandomForestRegressor()\n",
    "scores = cross_val_score(model_rfr, X_train, y_train, cv=cv, scoring='neg_mean_absolute_error')\n",
    "print(f\"Random Forest\\tCV MAE: {-scores.mean():.2f}\")\n",
    "\n",
    "model_dtr = DecisionTreeRegressor()\n",
    "scores = cross_val_score(model_dtr, X_train, y_train, cv=cv, scoring='neg_mean_absolute_error')\n",
    "print(f\"Decision Tree\\tCV MAE: {-scores.mean():.2f}\")\n",
    "\n",
    "model_lr = LinearRegression()\n",
    "scores = cross_val_score(model_lr, X_train, y_train, cv=cv, scoring='neg_mean_absolute_error')\n",
    "print(f\"Linear\\t\\tCV MAE: {-scores.mean():.2f}\")"
   ]
  },
  {
   "cell_type": "markdown",
   "id": "177ff325-700d-488f-b0bd-107809725fae",
   "metadata": {},
   "source": [
    "### Manually testing with loops"
   ]
  },
  {
   "cell_type": "code",
   "execution_count": 297,
   "id": "0c1be9ff-da42-4ef0-aede-8b1efbd3a446",
   "metadata": {},
   "outputs": [
    {
     "name": "stdout",
     "output_type": "stream",
     "text": [
      "Gradient Boost\t42\t[500, 9587]\n",
      "Gradient Boost\t65\t[540, 9796]\n",
      "Gradient Boost\t72\t[544, 9873]\n",
      "Random Forest\t67\t[556, 9999]\n",
      "Gradient Boost\t90\t[556, 10154]\n",
      "Gradient Boost\t1\t[557, 9492]\n",
      "Gradient Boost\t70\t[559, 9914]\n",
      "Gradient Boost\t46\t[564, 10099]\n",
      "Random Forest\t65\t[568, 9816]\n",
      "Random Forest\t19\t[570, 10090]\n"
     ]
    }
   ],
   "source": [
    "results = []\n",
    "\n",
    "for n in range(0,100):\n",
    "    X_train, X_test, y_train, y_test = train_test_split(X, y, test_size=0.2, random_state=n)\n",
    "\n",
    "    model_lr = LinearRegression()\n",
    "    model_lr.fit(X_train,y_train)\n",
    "    p_lr = model_lr.predict(X_test).astype(int)\n",
    "    p_lr_mine = int(model_lr.predict(mine)[0])\n",
    "    mae_lr = mean_absolute_error(y_test, p_lr)\n",
    "    result = {f'Linear\\t\\t{n}': [int(mae_lr), p_lr_mine]}\n",
    "    results.append(result)\n",
    "    \n",
    "    model_dtr = DecisionTreeRegressor(random_state=n)\n",
    "    model_dtr.fit(X_train,y_train)\n",
    "    p_dtr = model_dtr.predict(X_test).astype(int)\n",
    "    p_dtr_mine = int(model_dtr.predict(mine)[0])\n",
    "    mae_dtr = mean_absolute_error(y_test, p_dtr)\n",
    "    result = {f'Decision Tree\\t{n}': [int(mae_dtr), p_dtr_mine]}\n",
    "    results.append(result)\n",
    "    \n",
    "    model_rfr = RandomForestRegressor(random_state=n)\n",
    "    model_rfr.fit(X_train,y_train)\n",
    "    p_rfr = model_rfr.predict(X_test).astype(int)\n",
    "    p_rfr_mine = int(model_rfr.predict(mine)[0])\n",
    "    mae_rfr = mean_absolute_error(y_test, p_rfr)\n",
    "    result = {f'Random Forest\\t{n}': [int(mae_rfr), p_rfr_mine]}\n",
    "    results.append(result)\n",
    "    \n",
    "    model_gbr = GradientBoostingRegressor(random_state=n)\n",
    "    model_gbr.fit(X_train,y_train)\n",
    "    p_gbr = model_gbr.predict(X_test).astype(int)\n",
    "    p_gbr_mine = int(model_gbr.predict(mine)[0])\n",
    "    mae_gbr = mean_absolute_error(y_test, p_gbr)\n",
    "    result = {f'Gradient Boost\\t{n}': [int(mae_gbr), p_gbr_mine]}\n",
    "    results.append(result)\n",
    "    \n",
    "    model_xgb = XGBRegressor(random_state=n)\n",
    "    model_xgb.fit(X_train,y_train)\n",
    "    p_xgb = model_xgb.predict(X_test).astype(int)\n",
    "    p_xgb_mine = int(model_xgb.predict(mine)[0])\n",
    "    mae_xgb = mean_absolute_error(y_test, p_xgb)\n",
    "    result = {f'XGB Boost\\t{n}': [int(mae_xgb), p_xgb_mine]}\n",
    "    results.append(result)\n",
    "\n",
    "    # print(f'Random state: {n}')\n",
    "    # print(f'Random Forest:\\t\\t{p_rfr[:5]}\\t\\tMAE: {int(mae_rfr)}\\tPrediction: £{p_rfr_mine}')\n",
    "    # print(f'Linear:\\t\\t\\t{p_lr[:5]}\\t\\tMAE: {int(mae_lr)}\\tPrediction: £{p_lr_mine}')\n",
    "    # print(f'Gradient Boost:\\t\\t{p_gbr[:5]}\\t\\tMAE: {int(mae_gbr)}\\tPrediction: £{p_gbr_mine}')\n",
    "    # print(f'XGB Boost:\\t\\t{p_xgb[:5]}\\t\\tMAE: {int(mae_xgb)}\\tPrediction: £{p_xgb_mine}')\n",
    "    # print(f'Decision Tree:\\t\\t{p_dtr[:5]}\\t\\tMAE: {int(mae_dtr)}\\tPrediction: £{p_dtr_mine}')\n",
    "    # print()\n",
    "\n",
    "sorted_results = sorted(results, key=lambda x: list(x.values())[0])\n",
    "sorted_results\n",
    "for result in sorted_results[:10]:\n",
    "    model, info = list(result.items())[0]\n",
    "    print(f\"{model}\\t{info}\")"
   ]
  },
  {
   "cell_type": "code",
   "execution_count": 104,
   "id": "9203f78e-3d22-4ea6-918d-75b6444af337",
   "metadata": {},
   "outputs": [
    {
     "name": "stdout",
     "output_type": "stream",
     "text": [
      "50/3/2 50/3/3 50/3/4 50/4/2 50/4/3 50/4/4 50/5/2 50/5/3 50/5/4 100/3/2 100/3/3 100/3/4 100/4/2 100/4/3 100/4/4 100/5/2 100/5/3 100/5/4 150/3/2 150/3/3 150/3/4 150/4/2 150/4/3 150/4/4 150/5/2 150/5/3 150/5/4 \n",
      "\n",
      "150\t5\t2\t594\n",
      "150\t5\t3\t594\n",
      "100\t5\t2\t596\n",
      "50\t5\t2\t597\n",
      "100\t5\t3\t597\n",
      "150\t5\t4\t597\n",
      "50\t5\t3\t598\n",
      "50\t5\t4\t599\n",
      "100\t5\t4\t599\n",
      "100\t4\t3\t605\n"
     ]
    }
   ],
   "source": [
    "def score_model(model, X_t=X_train, X_v=X_test, y_t=y_train, y_v=y_test):\n",
    "    model.fit(X_t, y_t)\n",
    "    preds = model.predict(X_v)\n",
    "    return mean_absolute_error(y_v, preds)\n",
    "\n",
    "results = []\n",
    "\n",
    "for est in range(50,151,50):\n",
    "    for dep in range(3,6):\n",
    "        for spl in range (2,5):\n",
    "            model = RandomForestRegressor(random_state=42, n_estimators=est, max_depth=dep, min_samples_split=spl, criterion='absolute_error')\n",
    "            mae = int(score_model(model))\n",
    "            result = {f'{est}\\t{dep}\\t{spl}':int(mae)}\n",
    "            print(f'{est}/{dep}/{spl}', end=' ')\n",
    "            results.append(result)\n",
    "\n",
    "print()\n",
    "print()\n",
    "\n",
    "sorted_results = sorted(results, key=lambda x: list(x.values())[0])\n",
    "for result in sorted_results[:10]:\n",
    "    model, number = list(result.items())[0]\n",
    "    print(f\"{model}\\t{number}\")"
   ]
  },
  {
   "cell_type": "markdown",
   "id": "5e5c0056-1a4e-430f-b03f-11daede6f617",
   "metadata": {},
   "source": [
    "### Random forest gridsearch"
   ]
  },
  {
   "cell_type": "code",
   "execution_count": 125,
   "id": "d751bc61-b509-45b6-8933-1e00e6ea48d2",
   "metadata": {},
   "outputs": [
    {
     "name": "stdout",
     "output_type": "stream",
     "text": [
      "Time taken for 10 fits: 0.7127 seconds\n",
      "Total number of fits: 48000\n",
      "Approximate time for all fits: 57.02 minutes\n"
     ]
    }
   ],
   "source": [
    "n_estimators_range = list(range(50,201,50))\n",
    "max_depth_range = list(range(1,21))\n",
    "min_samples_split_range = list(range(2,22))\n",
    "param_grid = {\n",
    "    'n_estimators': n_estimators_range,\n",
    "    'max_depth': max_depth_range,\n",
    "    'min_samples_split': min_samples_split_range,\n",
    "    'criterion': ['squared_error', 'absolute_error']\n",
    "}\n",
    "\n",
    "params = { 'n_estimators': 50, 'max_depth': 18, 'min_samples_split': 10, 'criterion': 'squared_error' }\n",
    "model_rf = RandomForestRegressor(random_state=53, **params)\n",
    "start_time = time.time()\n",
    "for i in range(10):\n",
    "    model_rf.fit(X_train, y_train)\n",
    "end_time = time.time()\n",
    "sample_fit_time = end_time - start_time\n",
    "print(f\"Time taken for 10 fits: {sample_fit_time:.4f} seconds\")\n",
    "\n",
    "cv = 5\n",
    "fits = len(n_estimators_range) * len(max_depth_range) * len(min_samples_split_range) * len(param_grid['criterion']) * cv * 3\n",
    "print(f\"Total number of fits: {fits}\")\n",
    "print(f\"Approximate time for all fits: {sample_fit_time/10*fits/60:.2f} minutes\")"
   ]
  },
  {
   "cell_type": "code",
   "execution_count": 115,
   "id": "555c1e44-84d2-494f-9fd6-f9b5a4c9faf7",
   "metadata": {},
   "outputs": [
    {
     "name": "stderr",
     "output_type": "stream",
     "text": [
      "C:\\Users\\jgibb\\.pyenv\\pyenv-win\\versions\\3.12.5\\Lib\\site-packages\\numpy\\ma\\core.py:2881: RuntimeWarning: invalid value encountered in cast\n",
      "  _data = np.array(data, dtype=dtype, copy=copy,\n"
     ]
    },
    {
     "name": "stdout",
     "output_type": "stream",
     "text": [
      "grid_search_mae complete\n",
      "grid_search_mse complete\n",
      "grid_search_r2 complete\n",
      "\n",
      "Best Parameters (MAE): {'criterion': 'absolute_error', 'max_depth': 9, 'min_samples_split': 7, 'n_estimators': 200}\n",
      "Best Parameters (MSE): {'criterion': 'absolute_error', 'max_depth': 13, 'min_samples_split': 5, 'n_estimators': 50}\n",
      "Best Parameters (R2): {'criterion': 'absolute_error', 'max_depth': 9, 'min_samples_split': 7, 'n_estimators': 50}\n",
      "\n",
      "Best Score (MAE): 763.63\n",
      "Best Score (MSE): 1033037.40\n",
      "Best Score (R2): 0.97\n"
     ]
    },
    {
     "name": "stderr",
     "output_type": "stream",
     "text": [
      "C:\\Users\\jgibb\\.pyenv\\pyenv-win\\versions\\3.12.5\\Lib\\site-packages\\numpy\\ma\\core.py:2881: RuntimeWarning: invalid value encountered in cast\n",
      "  _data = np.array(data, dtype=dtype, copy=copy,\n"
     ]
    }
   ],
   "source": [
    "model_rf = RandomForestRegressor(random_state=53)\n",
    "\n",
    "grid_search_rf_mae = GridSearchCV(estimator=model_rf, param_grid=param_grid, cv=cv, scoring='neg_mean_absolute_error', error_score='raise')\n",
    "grid_search_rf_mae.fit(X_train, y_train)\n",
    "print(f'grid_search_rf_mae complete')\n",
    "\n",
    "grid_search_rf_mse = GridSearchCV(estimator=model_rf, param_grid=param_grid, cv=cv, scoring='neg_mean_squared_error', error_score='raise')\n",
    "grid_search_rf_mse.fit(X_train, y_train)\n",
    "print(f'grid_search_rf_mse complete')\n",
    "\n",
    "grid_search_rf_r2 = GridSearchCV(estimator=model_rf, param_grid=param_grid, cv=cv, scoring='r2', error_score='raise')\n",
    "grid_search_rf_r2.fit(X_train, y_train)\n",
    "print(f'grid_search_rf_r2 complete')\n",
    "print()\n",
    "\n",
    "print(f\"Best Parameters (MAE): {grid_search_rf_mae.best_params_}\")\n",
    "print(f\"Best Parameters (MSE): {grid_search_rf_mse.best_params_}\")\n",
    "print(f\"Best Parameters (R²): {grid_search_rf_r2.best_params_}\")\n",
    "print()\n",
    "print(f\"Best Score (MAE): {-grid_search_rf_mae.best_score_:.2f}\")\n",
    "print(f\"Best Score (MSE): {-grid_search_rf_mse.best_score_:.2f}\")\n",
    "print(f\"Best Score (R²): {grid_search_rf_r2.best_score_:.2f}\")"
   ]
  },
  {
   "cell_type": "markdown",
   "id": "07f933b5-ecba-4cba-a09e-5bc6d07f8b13",
   "metadata": {},
   "source": [
    "### Gradient boosting gridsearch"
   ]
  },
  {
   "cell_type": "code",
   "execution_count": 245,
   "id": "ed350f9e-d01b-4472-9915-1d26b84e941c",
   "metadata": {},
   "outputs": [
    {
     "name": "stdout",
     "output_type": "stream",
     "text": [
      "Time taken for 10 fits: 0.7127 seconds\n",
      "Total number of fits: 30000\n",
      "Approximate time for all fits: 35.64 minutes\n"
     ]
    }
   ],
   "source": [
    "learning_rate_range = np.arange(0.1, 0.6, 0.1)\n",
    "learning_rate_range = np.round(learning_rate_range, decimals=1)\n",
    "learning_rate_range = learning_rate_range.tolist()\n",
    "n_estimators_range = list(range(100,301,50))\n",
    "max_depth_range = list(range(1,11))\n",
    "param_grid = {\n",
    "    'learning_rate': learning_rate_range,\n",
    "    'n_estimators': n_estimators_range,\n",
    "    'max_depth': max_depth_range,\n",
    "    'criterion': ['squared_error', 'friedman_mse']\n",
    "}\n",
    "\n",
    "params = { 'learning_rate': 0.1, 'n_estimators': 100, 'max_depth': 3, 'criterion': 'friedman_mse' }\n",
    "model_gb = GradientBoostingRegressor(random_state=42, **params)\n",
    "start_time = time.time()\n",
    "for i in range(10):\n",
    "    model_gb.fit(X_train, y_train)\n",
    "end_time = time.time()\n",
    "single_fit_time = end_time - start_time\n",
    "print(f\"Time taken for 10 fits: {sample_fit_time:.4f} seconds\")\n",
    "\n",
    "cv = 5\n",
    "fits = len(n_estimators_range) * len(max_depth_range) * len(min_samples_split_range) * len(param_grid['criterion']) * cv * 3\n",
    "print(f\"Total number of fits: {fits}\")\n",
    "print(f\"Approximate time for all fits: {sample_fit_time/10*fits/60:.2f} minutes\")"
   ]
  },
  {
   "cell_type": "code",
   "execution_count": 246,
   "id": "01fdb558-f412-4496-88c2-77933a94a1ba",
   "metadata": {},
   "outputs": [
    {
     "name": "stdout",
     "output_type": "stream",
     "text": [
      "grid_search_gb_mae complete\n",
      "grid_search_gb_mse complete\n",
      "grid_search_gb_r2 complete\n",
      "\n",
      "Best Parameters (MAE): {'criterion': 'squared_error', 'learning_rate': 0.1, 'max_depth': 3, 'n_estimators': 100}\n",
      "Best Parameters (MSE): {'criterion': 'squared_error', 'learning_rate': 0.1, 'max_depth': 2, 'n_estimators': 100}\n",
      "Best Parameters (R2): {'criterion': 'squared_error', 'learning_rate': 0.1, 'max_depth': 2, 'n_estimators': 100}\n",
      "\n",
      "Best Score (MAE): 668.19\n",
      "Best Score (MSE): 812269.27\n",
      "Best Score (R2): 0.97\n"
     ]
    }
   ],
   "source": [
    "model_gb = GradientBoostingRegressor(random_state=20)\n",
    "\n",
    "grid_search_gb_mae = GridSearchCV(estimator=model_gb, param_grid=param_grid, cv=cv, scoring='neg_mean_absolute_error', error_score='raise')\n",
    "grid_search_gb_mae.fit(X_train, y_train)\n",
    "print(f'grid_search_gb_mae complete')\n",
    "\n",
    "grid_search_gb_mse = GridSearchCV(estimator=model_gb, param_grid=param_grid, cv=cv, scoring='neg_mean_squared_error', error_score='raise')\n",
    "grid_search_gb_mse.fit(X_train, y_train)\n",
    "print(f'grid_search_gb_mse complete')\n",
    "\n",
    "grid_search_gb_r2 = GridSearchCV(estimator=model_gb, param_grid=param_grid, cv=cv, scoring='r2', error_score='raise')\n",
    "grid_search_gb_r2.fit(X_train, y_train)\n",
    "print(f'grid_search_gb_r2 complete')\n",
    "print()\n",
    "\n",
    "print(f\"Best Parameters (MAE): {grid_search_gb_mae.best_params_}\")\n",
    "print(f\"Best Parameters (MSE): {grid_search_gb_mse.best_params_}\")\n",
    "print(f\"Best Parameters (R²): {grid_search_gb_r2.best_params_}\")\n",
    "print()\n",
    "print(f\"Best Score (MAE): {-grid_search_gb_mae.best_score_:.2f}\")\n",
    "print(f\"Best Score (MSE): {-grid_search_gb_mse.best_score_:.2f}\")\n",
    "print(f\"Best Score (R²): {grid_search_gb_r2.best_score_:.2f}\")"
   ]
  },
  {
   "cell_type": "markdown",
   "id": "2d9c0e04-32b2-474a-95e0-0aa8f4980dbe",
   "metadata": {},
   "source": [
    "### Linear vs random forest vs gradient boosting"
   ]
  },
  {
   "cell_type": "code",
   "execution_count": 302,
   "id": "23133627-1000-434b-a477-f170fb90d0b7",
   "metadata": {
    "editable": true,
    "slideshow": {
     "slide_type": ""
    },
    "tags": []
   },
   "outputs": [
    {
     "name": "stdout",
     "output_type": "stream",
     "text": [
      "Linear\t\t\tMean MAE:\t2673.91\n",
      "Random Forest\t\tMean MAE:\t2012.45\n",
      "Gradient Boosting\tMean MAE:\t1805.50\n",
      "\n",
      "Linear\t\t\tStd MAE:\t1816.25\n",
      "Random Forest\t\tStd MAE:\t998.14\n",
      "Gradient Boosting\tStd MAE:\t773.84\n",
      "\n",
      "Linear\t\t\tMSE:\t2519242.71\n",
      "Random Forest\t\tMSE:\t751407.01\n",
      "Gradient Boosting\tMSE:\t712873.71\n",
      "\n",
      "Linear\t\t\tR²:\t0.93\n",
      "Random Forest\t\tR²:\t0.98\n",
      "Gradient Boosting\tR²:\t0.98\n",
      "\n"
     ]
    }
   ],
   "source": [
    "# params_rf = {\n",
    "#     'min_samples_split': grid_search_rf_mae.best_params_['min_samples_split'],\n",
    "#     'n_estimators': grid_search_rf_mae.best_params_['n_estimators'],\n",
    "#     'max_depth': grid_search_rf_mae.best_params_['max_depth'],\n",
    "#     'criterion': grid_search_rf_mae.best_params_['criterion']\n",
    "# }\n",
    "params_rf = {\n",
    "    'min_samples_split': 5,\n",
    "    'n_estimators': 200,\n",
    "    'max_depth': 10,\n",
    "    'criterion': 'absolute_error'\n",
    "}\n",
    "rs_rf=53\n",
    "\n",
    "# params_gb = {\n",
    "#     'learning_rate': grid_search_gb_mae.best_params_['learning_rate'],\n",
    "#     'n_estimators': grid_search_gb_mae.best_params_['n_estimators'],\n",
    "#     'max_depth': grid_search_gb_mae.best_params_['max_depth'],\n",
    "#     'criterion': grid_search_gb_mae.best_params_['criterion'],\n",
    "# }\n",
    "params_gb = {\n",
    "    'learning_rate': 0.1,\n",
    "    'n_estimators': 100,\n",
    "    'max_depth': 3,\n",
    "    'criterion': 'squared_error',\n",
    "}\n",
    "rs_gb=42\n",
    "\n",
    "model_lr = LinearRegression()\n",
    "model_rf = RandomForestRegressor(random_state=rs_rf, **params_rf)\n",
    "model_gb = GradientBoostingRegressor(random_state=rs_gb, **params_gb)\n",
    "\n",
    "scoring = make_scorer(mean_absolute_error)\n",
    "\n",
    "cv_scores_lr = cross_val_score(model_lr, X, y, cv=5, scoring=scoring)\n",
    "mean_mae_lr = cv_scores_lr.mean()\n",
    "std_mae_lr = cv_scores_lr.std()\n",
    "cv_scores_rf = cross_val_score(model_rf, X, y, cv=5, scoring=scoring)\n",
    "mean_mae_rf = cv_scores_rf.mean()\n",
    "std_mae_rf = cv_scores_rf.std()\n",
    "cv_scores_gb = cross_val_score(model_gb, X, y, cv=5, scoring=scoring)\n",
    "mean_mae_gb = cv_scores_gb.mean()\n",
    "std_mae_gb = cv_scores_gb.std()\n",
    "\n",
    "model_lr.fit(X_train, y_train)\n",
    "model_rf.fit(X_train, y_train)\n",
    "model_gb.fit(X_train, y_train)\n",
    "\n",
    "y_pred_lr = model_lr.predict(X_test)\n",
    "y_pred_rf = model_rf.predict(X_test)\n",
    "y_pred_gb = model_gb.predict(X_test)\n",
    "\n",
    "mse_lr = mean_squared_error(y_test, y_pred_lr)\n",
    "r2_lr = r2_score(y_test, y_pred_lr)\n",
    "mse_rf = mean_squared_error(y_test, y_pred_rf)\n",
    "r2_rf = r2_score(y_test, y_pred_rf)\n",
    "mse_gb = mean_squared_error(y_test, y_pred_gb)\n",
    "r2_gb = r2_score(y_test, y_pred_gb)\n",
    "\n",
    "print(f\"Linear\\t\\t\\tMean MAE:\\t{mean_mae_lr:.2f}\")\n",
    "print(f\"Random Forest\\t\\tMean MAE:\\t{mean_mae_rf:.2f}\")\n",
    "print(f\"Gradient Boosting\\tMean MAE:\\t{mean_mae_gb:.2f}\")\n",
    "print()\n",
    "print(f\"Linear\\t\\t\\tStd MAE:\\t{std_mae_lr:.2f}\")\n",
    "print(f\"Random Forest\\t\\tStd MAE:\\t{std_mae_rf:.2f}\")\n",
    "print(f\"Gradient Boosting\\tStd MAE:\\t{std_mae_gb:.2f}\")\n",
    "print()\n",
    "print(f\"Linear\\t\\t\\tMSE:\\t{mse_lr:.2f}\")\n",
    "print(f\"Random Forest\\t\\tMSE:\\t{mse_rf:.2f}\")\n",
    "print(f\"Gradient Boosting\\tMSE:\\t{mse_gb:.2f}\")\n",
    "print()\n",
    "print(f\"Linear\\t\\t\\tR²:\\t{r2_lr:.2f}\")\n",
    "print(f\"Random Forest\\t\\tR²:\\t{r2_rf:.2f}\")\n",
    "print(f\"Gradient Boosting\\tR²:\\t{r2_gb:.2f}\")\n",
    "print()"
   ]
  },
  {
   "cell_type": "code",
   "execution_count": 299,
   "id": "a74d3ae0-620b-4561-ba61-27f113e4ccfa",
   "metadata": {},
   "outputs": [
    {
     "name": "stdout",
     "output_type": "stream",
     "text": [
      "LinearRegression()\n",
      "Mean MAE:\t2673.91\n",
      "Std MAE:\t1816.25\n",
      "MSE:\t\t2519242.71\n",
      "R²:\t\t0.93\n",
      "\n",
      "RandomForestRegressor(criterion='absolute_error', max_depth=10,\n",
      "                      min_samples_split=5, n_estimators=200, random_state=53)\n",
      "Mean MAE:\t2012.45\n",
      "Std MAE:\t998.14\n",
      "MSE:\t\t751407.01\n",
      "R²:\t\t0.98\n",
      "\n",
      "GradientBoostingRegressor(criterion='squared_error', random_state=42)\n",
      "Mean MAE:\t1805.50\n",
      "Std MAE:\t773.84\n",
      "MSE:\t\t712873.71\n",
      "R²:\t\t0.98\n",
      "\n"
     ]
    }
   ],
   "source": [
    "def compare(model):\n",
    "    print(model)\n",
    "    cv_scores = cross_val_score(model, X, y, cv=5, scoring=scoring)\n",
    "    mean_mae = cv_scores.mean()\n",
    "    std_mae = cv_scores.std()\n",
    "    print(f\"Mean MAE:\\t{mean_mae:.2f}\")\n",
    "    print(f\"Std MAE:\\t{std_mae:.2f}\")\n",
    "    model.fit(X_train, y_train)\n",
    "    y_pred = model.predict(X_test)\n",
    "    mse = mean_squared_error(y_test, y_pred)\n",
    "    r2 = r2_score(y_test, y_pred)\n",
    "    print(f\"MSE:\\t\\t{mse:.2f}\")\n",
    "    print(f\"R²:\\t\\t{r2:.2f}\")\n",
    "    print()\n",
    "\n",
    "compare(model_lr)\n",
    "compare(model_rf)\n",
    "compare(model_gb)"
   ]
  },
  {
   "cell_type": "code",
   "execution_count": 271,
   "id": "5c40808f-7645-474b-b826-7c2aaec3e5da",
   "metadata": {},
   "outputs": [
    {
     "name": "stdout",
     "output_type": "stream",
     "text": [
      "Paired t-test (lr, gb) - t-statistic:\t0.96\n",
      "Paired t-test (lr, gb) - p-value:\t0.39\n"
     ]
    }
   ],
   "source": [
    "t_stat, p_value = ttest_rel(cv_scores_lr, cv_scores_gb)\n",
    "\n",
    "print(f\"Paired t-test (lr, gb) - t-statistic:\\t{t_stat:.2f}\")\n",
    "print(f\"Paired t-test (lr, gb) - p-value:\\t{p_value:.2f}\")"
   ]
  },
  {
   "cell_type": "code",
   "execution_count": 303,
   "id": "5bc1033d-2405-4ea5-bdb6-73e18017fb1e",
   "metadata": {},
   "outputs": [
    {
     "data": {
      "text/plain": [
       "9878"
      ]
     },
     "execution_count": 303,
     "metadata": {},
     "output_type": "execute_result"
    }
   ],
   "source": [
    "int(model_gb.predict(mine)[0])"
   ]
  }
 ],
 "metadata": {
  "kernelspec": {
   "display_name": "Python 3 (ipykernel)",
   "language": "python",
   "name": "python3"
  },
  "language_info": {
   "codemirror_mode": {
    "name": "ipython",
    "version": 3
   },
   "file_extension": ".py",
   "mimetype": "text/x-python",
   "name": "python",
   "nbconvert_exporter": "python",
   "pygments_lexer": "ipython3",
   "version": "3.12.5"
  }
 },
 "nbformat": 4,
 "nbformat_minor": 5
}
