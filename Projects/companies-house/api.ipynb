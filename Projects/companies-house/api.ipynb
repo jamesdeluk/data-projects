{
 "cells": [
  {
   "cell_type": "code",
   "execution_count": 32,
   "metadata": {},
   "outputs": [],
   "source": [
    "import requests\n",
    "import json\n",
    "import pandas as pd\n",
    "import numpy as np\n",
    "from tqdm import tqdm"
   ]
  },
  {
   "cell_type": "code",
   "execution_count": 33,
   "metadata": {},
   "outputs": [],
   "source": [
    "key = ''\n",
    "url = 'https://api.company-information.service.gov.uk/company/'\n",
    "cids = np.loadtxt('unique_company_ids.csv', dtype=int)\n",
    "sics_data = pd.read_csv('SIC07_CH_condensed_list_en.csv', index_col=0)"
   ]
  },
  {
   "cell_type": "code",
   "execution_count": 34,
   "metadata": {},
   "outputs": [],
   "source": [
    "split_company_sics = []\n",
    "all_company_sics = []"
   ]
  },
  {
   "cell_type": "code",
   "execution_count": 35,
   "metadata": {},
   "outputs": [
    {
     "name": "stderr",
     "output_type": "stream",
     "text": [
      "100%|██████████| 10/10 [00:00<00:00, 19.94it/s]\n"
     ]
    }
   ],
   "source": [
    "for cid in tqdm(cids):\n",
    "    # print(f'Company {cid}')\n",
    "    cid_pad = str(cid).zfill(8) # are any 10 digit?\n",
    "    cid_url = url + cid_pad\n",
    "    r = requests.get(cid_url, auth=(key,''))\n",
    "    all_sics = []\n",
    "    if r.status_code == 200:\n",
    "        data = r.json()\n",
    "        sics = data['sic_codes']\n",
    "        for sic in sics:\n",
    "            sic = sic.ljust(5,'0')\n",
    "            desc = sics_data.loc[int(sic)].Description\n",
    "            # print(f'{sic} : {desc}')\n",
    "            split_company_sics.append((cid,desc))\n",
    "            all_sics.append(desc)\n",
    "        all_company_sics.append((cid,all_sics))\n",
    "    # else:\n",
    "        # print(f'Error: {r.status_code}')\n",
    "    # print()"
   ]
  },
  {
   "cell_type": "code",
   "execution_count": null,
   "metadata": {},
   "outputs": [],
   "source": [
    "split_company_sics_df = pd.DataFrame(split_company_sics, columns=[\"Company Number\", \"SIC Description\"])\n",
    "# split_company_sics_df"
   ]
  },
  {
   "cell_type": "code",
   "execution_count": null,
   "metadata": {},
   "outputs": [],
   "source": [
    "# pd.DataFrame(split_company_sics_df.groupby('Company Number')['SIC Description'].apply(list))"
   ]
  },
  {
   "cell_type": "code",
   "execution_count": null,
   "metadata": {},
   "outputs": [],
   "source": [
    "all_company_sics_df = pd.DataFrame(all_company_sics, columns=[\"Company Number\", \"SIC Descriptions\"])\n",
    "# all_company_sics_df"
   ]
  },
  {
   "cell_type": "code",
   "execution_count": 40,
   "metadata": {},
   "outputs": [],
   "source": [
    "all_company_sics_df.to_csv(\"all_company_sics_df.csv\", index=False)"
   ]
  }
 ],
 "metadata": {
  "kernelspec": {
   "display_name": "base",
   "language": "python",
   "name": "python3"
  },
  "language_info": {
   "codemirror_mode": {
    "name": "ipython",
    "version": 3
   },
   "file_extension": ".py",
   "mimetype": "text/x-python",
   "name": "python",
   "nbconvert_exporter": "python",
   "pygments_lexer": "ipython3",
   "version": "3.12.8"
  }
 },
 "nbformat": 4,
 "nbformat_minor": 2
}
