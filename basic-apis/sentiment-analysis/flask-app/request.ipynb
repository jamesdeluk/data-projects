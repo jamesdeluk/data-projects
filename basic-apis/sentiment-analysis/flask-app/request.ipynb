{
 "cells": [
  {
   "cell_type": "code",
   "execution_count": 7,
   "metadata": {},
   "outputs": [
    {
     "name": "stdout",
     "output_type": "stream",
     "text": [
      "{'input': 'Happy New Year!!!', 'sentiment': 'positive', 'sentiment_score': 0.5331676136363637}\n"
     ]
    }
   ],
   "source": [
    "import requests\n",
    "\n",
    "# url = \"http://127.0.0.1:5000/analyse\"\n",
    "url = \"http://44.201.42.37:5000/analyse\"\n",
    "\n",
    "data = {\"text\": \"Happy New Year!!!\"}\n",
    "\n",
    "response = requests.post(url, json=data)\n",
    "\n",
    "if response.status_code == 200:\n",
    "    print(response.json())\n",
    "else:\n",
    "    print(\"Error:\", response.status_code, response.text)"
   ]
  }
 ],
 "metadata": {
  "kernelspec": {
   "display_name": "base",
   "language": "python",
   "name": "python3"
  },
  "language_info": {
   "codemirror_mode": {
    "name": "ipython",
    "version": 3
   },
   "file_extension": ".py",
   "mimetype": "text/x-python",
   "name": "python",
   "nbconvert_exporter": "python",
   "pygments_lexer": "ipython3",
   "version": "3.12.3"
  }
 },
 "nbformat": 4,
 "nbformat_minor": 2
}
