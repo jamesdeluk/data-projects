{
 "cells": [
  {
   "cell_type": "markdown",
   "id": "fc1b63ae",
   "metadata": {},
   "source": [
    "# Create the TranspositionCipher class"
   ]
  },
  {
   "cell_type": "code",
   "execution_count": 1,
   "id": "24484932",
   "metadata": {},
   "outputs": [
    {
     "name": "stdout",
     "output_type": "stream",
     "text": [
      "Lann yhni uerigPto sfn\n",
      "\n",
      "Lntnushr Pe gnonfyai i\n"
     ]
    }
   ],
   "source": [
    "from math import ceil\n",
    "\n",
    "class TranspositionCipher(object): \n",
    "        \n",
    "    def __init__(self, key):\n",
    "        self.key = int(key)\n",
    "        \n",
    "    def encrypt_message(self, message):\n",
    "        self.message = message\n",
    "        enrypted = ''\n",
    "        for j in range(self.key):\n",
    "            for m in range(len(self.message)):\n",
    "                if m%self.key == j:\n",
    "                    enrypted += self.message[m]\n",
    "                    # print(f'{m}', end=' | ')\n",
    "        return enrypted\n",
    "\n",
    "    # not working\n",
    "    # def decrypt_message(self, message):\n",
    "    #     self.message = message\n",
    "    #     decrypted = ''\n",
    "    #     for j in range(self.key): # number of columns\n",
    "    #         for m in range(len(self.message)): # iterate through encrypted code\n",
    "    #             if m%ceil(len(self.message)/self.key) == j: # number of rows\n",
    "    #                 decrypted += self.message[m]\n",
    "    #                 # print(f'{m}:{self.message[m]}', end=' | ')\n",
    "    #     return decrypted\n",
    "\n",
    "    def decrypt_message_gpt(self, message): # doesn't look to be working either\n",
    "        self.message = message\n",
    "        num_columns = self.key\n",
    "        num_rows = ceil(len(self.message) / self.key)\n",
    "        num_full_cols = len(self.message) % self.key\n",
    "        decrypted = [''] * num_rows\n",
    "        col = 0\n",
    "        row = 0\n",
    "        for symbol in self.message:\n",
    "            # print(f'c:{col}/{num_columns-1}({num_full_cols}) r:{row}/{num_rows-1}')\n",
    "            decrypted[row] += symbol\n",
    "            row += 1\n",
    "            # if (row == num_rows): # same result as mine\n",
    "            if (row == num_rows) or (row == num_rows - 1 and col >= num_full_cols):\n",
    "                row = 0\n",
    "                col += 1\n",
    "        return ''.join(decrypted)\n",
    "\n",
    "a = TranspositionCipher(2)\n",
    "print(a.encrypt_message('Learning Python is fun'))\n",
    "print()\n",
    "print(a.decrypt_message_gpt('Lnh egofa nurP nnyiits'))"
   ]
  },
  {
   "cell_type": "markdown",
   "id": "addc9042",
   "metadata": {},
   "source": [
    "# Test the code by encrypting and decrypting a message"
   ]
  },
  {
   "cell_type": "code",
   "execution_count": 2,
   "id": "8c8f8aa3",
   "metadata": {},
   "outputs": [],
   "source": [
    "# for n in range(11):\n",
    "#     a = TranspositionCipher(n+1)\n",
    "#     c = 'pe\\nlwy crt h iarmpeo akohw hncosrmr\\nt veo\\nigkb ostot\\neirbt .l\\nb hfap rtytb'\n",
    "#     print(n+1)\n",
    "#     print(a.decrypt_message_gpt(c))\n",
    "\n",
    "# for n in range(4,10):\n",
    "#     a = TranspositionCipher(n+1)\n",
    "#     c = \"icilehd  oy ganoasitasiv  sqcolhldultd'ltdetoouiuo w siiosiionhfmio uyap\\nfcc fcc e etusdoyrsreisreit itesa useuaxouaxohsth \\nye' cpgpupgpuoo iai nlsoeiiseiisuuintfiolocrlarla\\ngnsgr tu uicil\"\n",
    "#     print(n+1)\n",
    "#     print(a.decrypt_message_gpt(c))\n",
    "\n",
    "# a = TranspositionCipher(7)\n",
    "# c = '''I confess at these words a shudder passed\n",
    "# through me. There was a thrill in the doctor’s voice\n",
    "# which showed that he was himself deeply moved\n",
    "# by that which he told us. Holmes leaned forward\n",
    "# in his excitement and his eyes had the hard, dry\n",
    "# glitter which shot from them when he was keenly\n",
    "# interested.'''\n",
    "# print(a.encrypt_message(c))\n",
    "\n",
    "# a = TranspositionCipher(9) # project asks for 8 but doesn't work\n",
    "# print()\n",
    "# c1 = 't a isn r usy   eo meoe  eoryehbiwg ltepn,eiit scpxbcit l smernehoyheod ttshmtol jtnhsast.'\n",
    "# c2 = 'iosertonethmseasdeaihirn cninme,ayeox;ao  n   rsest sedm en v sti tvtpeatss  tiop  es sgid  sw ehltnht tdoofaat.'\n",
    "# c3 = 'ptatptabod hsdoh tymeiy emyit  rtsa ssseatssiro.i mnotecef cap  ali  aintaunfsma s  tnd.'\n",
    "# c4 = 'ttpo imm,eedaayoaritbep  c nws nenhlsoytiudsiudctee sooan  cn i   tsu tdtosdtswpbhi aeehf.ehehoeebhp re re esc lapas ps pnsoievrntlh'\n",
    "# print(a.decrypt_message_gpt(c1))\n",
    "# print(a.decrypt_message_gpt(c2))\n",
    "# print(a.decrypt_message_gpt(c3))\n",
    "# print(a.decrypt_message_gpt(c4))\n",
    "\n",
    "# a = TranspositionCipher(12)\n",
    "# c1 = \"npomhhe eeneea rvo'titbeepthr earl i tys ehnlhoot agiennrwv vyd.uheie  so nslat s  ol dottvl\"\n",
    "# c2 = 'naoensioanosprg tnl til  tieleheedthc yfir ohaiw fn w enzhmogfham eoar oonst  ktir yeosae.s ntl ocs pehvcmt eeviereua'\n",
    "# c3 = 'tto at   heubl catedtaimati   dkon mctg es teohop tbh.mioei eepndoso  lg p fbsi alt oacanehutmabd ashe'\n",
    "# c4 = 'asnem trhivt  taotosatihftorru .v naeu sera eogtwrm, nly f . no yelea lyeraed a biedena yrheka  driesaheriy sna ba '\n",
    "# print(a.decrypt_message_gpt(c1))\n",
    "# print(a.decrypt_message_gpt(c2))\n",
    "# print(a.decrypt_message_gpt(c3))\n",
    "# print(a.decrypt_message_gpt(c4))"
   ]
  },
  {
   "cell_type": "markdown",
   "id": "2c4e8503",
   "metadata": {},
   "source": [
    "# Hack the transposition cipher (optional)"
   ]
  },
  {
   "cell_type": "code",
   "execution_count": 3,
   "id": "54134ab4",
   "metadata": {},
   "outputs": [],
   "source": [
    "def hack_cipher(message_enc):\n",
    "    pass"
   ]
  }
 ],
 "metadata": {
  "kernelspec": {
   "display_name": "Python 3 (ipykernel)",
   "language": "python",
   "name": "python3"
  },
  "language_info": {
   "codemirror_mode": {
    "name": "ipython",
    "version": 3
   },
   "file_extension": ".py",
   "mimetype": "text/x-python",
   "name": "python",
   "nbconvert_exporter": "python",
   "pygments_lexer": "ipython3",
   "version": "3.12.5"
  }
 },
 "nbformat": 4,
 "nbformat_minor": 5
}
